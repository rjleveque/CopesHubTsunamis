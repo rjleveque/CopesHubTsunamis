{
 "cells": [
  {
   "cell_type": "markdown",
   "metadata": {},
   "source": [
    "# make_fgmax_grid_Newport\n",
    "\n",
    "For [Cascadia CoPes Hub](https://cascadiacopeshub.org/) tsunami modeling, sponsored by NSF.\n",
    "\n",
    "Creates an fgmax grid for point_style==4 in GeoClaw covering only points around Yaquina Bay that are below some specified elevation.\n",
    "\n",
    "For a notebook with more explanation, see [MarchingFront.ipynb](https://www.clawpack.org/gallery/_static/apps/notebooks/geoclaw/MarchingFront.html) in the Clawpack Gallery of Jupyter notebooks, and \n",
    "\n",
    "R.J. LeVeque 1/30/25"
   ]
  },
  {
   "cell_type": "code",
   "execution_count": null,
   "metadata": {
    "tags": [
     "hide-py"
    ]
   },
   "outputs": [],
   "source": [
    "%matplotlib inline"
   ]
  },
  {
   "cell_type": "code",
   "execution_count": null,
   "metadata": {},
   "outputs": [],
   "source": [
    "from pylab import *\n",
    "import os,sys\n",
    "from clawpack.visclaw import colormaps, plottools\n",
    "from clawpack.geoclaw import topotools, marching_front, kmltools, fgmax_tools\n",
    "from clawpack.amrclaw import region_tools\n",
    "from numpy import ma\n",
    "import glob\n",
    "import zipfile"
   ]
  },
  {
   "cell_type": "code",
   "execution_count": null,
   "metadata": {},
   "outputs": [],
   "source": [
    "zmin = -70.\n",
    "zmax = 35.\n",
    "sea_level = 0.  # corresponding to MHW in coastal DEMs\n",
    "\n",
    "cmap_land = colormaps.make_colormap({ 0.0:[0.1,0.4,0.0],\n",
    "                                     0.25:[0.0,1.0,0.0],\n",
    "                                      0.5:[0.8,1.0,0.5],\n",
    "                                      1.0:[0.8,0.5,0.2]})\n",
    "\n",
    "cmap_water = colormaps.make_colormap({ 0.0:[0,0,1], 1.:[.8,.8,1]})\n",
    "\n",
    "cmap_topo, norm_topo = colormaps.add_colormaps((cmap_land, cmap_water),\n",
    "                                     data_limits=(zmin,zmax),\n",
    "                                     data_break=sea_level)\n",
    "\n",
    "cmap_below_sea_level_dry = colormaps.make_colormap({ 0.0:[1.0,0.7,0.7], 1.:[1.0,0.7,0.7]})\n",
    "cmap_dry, norm_dry = colormaps.add_colormaps((cmap_land, cmap_below_sea_level_dry),\n",
    "                                     data_limits=(zmin,zmax),\n",
    "                                     data_break=sea_level) \n",
    "\n",
    "def plottopo(topo):\n",
    "    figure(figsize=(13,8))\n",
    "    plottools.pcolorcells(topo.X, topo.Y, topo.Z, cmap=cmap_topo, norm=norm_topo)\n",
    "    colorbar(extend='both',shrink=0.5)\n",
    "    gca().set_aspect(1./cos(44.6*pi/180.))\n",
    "    xticks(rotation=20);"
   ]
  },
  {
   "cell_type": "code",
   "execution_count": null,
   "metadata": {},
   "outputs": [],
   "source": [
    "fname = 'topofiles/Newport_13s_mhw.asc'\n",
    "topo = topotools.Topography()\n",
    "topo.read(fname, topo_type=3)\n",
    "print('Extent: \\n', topo.extent)\n",
    "print('Offset in x = %.3f cells' % ((topo.x[0]+124)*3*3600))\n",
    "print('Offset in y = %.3f cells' % ((topo.y[0]-44)*3*3600))\n",
    "print('These should be integers if aligned so DEM point is at integer lat-long')"
   ]
  },
  {
   "cell_type": "code",
   "execution_count": null,
   "metadata": {},
   "outputs": [],
   "source": [
    "loc = 'Newport'\n",
    "fgmax_extent = [-124.1, -124, 44.565, 44.642]\n",
    "topo_fgmax = topo.crop(fgmax_extent)\n",
    "topo_fgmax.X.shape"
   ]
  },
  {
   "cell_type": "code",
   "execution_count": null,
   "metadata": {},
   "outputs": [],
   "source": [
    "# not used here:\n",
    "RR_extent = None\n",
    "mask_outside_extent = None"
   ]
  },
  {
   "cell_type": "markdown",
   "metadata": {},
   "source": [
    "## Select fgmax points below some elevation"
   ]
  },
  {
   "cell_type": "code",
   "execution_count": null,
   "metadata": {},
   "outputs": [],
   "source": [
    "fgmax_pts_chosen = marching_front.select_by_flooding(topo_fgmax.Z, \n",
    "                               Z1=0, Z2=1e6, max_iters=20,mask=mask_outside_extent) "
   ]
  },
  {
   "cell_type": "code",
   "execution_count": null,
   "metadata": {},
   "outputs": [],
   "source": [
    "fgmax_pts_chosen = marching_front.select_by_flooding(topo_fgmax.Z, \n",
    "                                   Z1=0, Z2=35., prev_pts_chosen=fgmax_pts_chosen,\n",
    "                                   max_iters=None,mask=mask_outside_extent)"
   ]
  },
  {
   "cell_type": "code",
   "execution_count": null,
   "metadata": {},
   "outputs": [],
   "source": [
    "Z_fgmax = ma.masked_array(topo_fgmax.Z,  logical_not(fgmax_pts_chosen))"
   ]
  },
  {
   "cell_type": "code",
   "execution_count": null,
   "metadata": {},
   "outputs": [],
   "source": [
    "topo_fgmax.Z.shape, fgmax_pts_chosen.shape"
   ]
  },
  {
   "cell_type": "code",
   "execution_count": null,
   "metadata": {},
   "outputs": [],
   "source": [
    "fgmax_pts_chosen = where(fgmax_pts_chosen, 1, 0)  # change boolean to 1/0\n",
    "topo_fgmax_pts = topotools.Topography()\n",
    "topo_fgmax_pts.set_xyZ(topo_fgmax.x, topo_fgmax.y, fgmax_pts_chosen)"
   ]
  },
  {
   "cell_type": "code",
   "execution_count": null,
   "metadata": {},
   "outputs": [],
   "source": [
    "figure(figsize=(13,8))\n",
    "plottools.pcolorcells(topo_fgmax.X, topo_fgmax.Y, Z_fgmax, cmap=cmap_topo, norm=norm_topo)\n",
    "colorbar(extend='both',shrink=0.5)\n",
    "gca().set_aspect(1./cos(48*pi/180.))\n",
    "xticks(rotation=20);\n",
    "ticklabel_format(style='plain',useOffset=False);"
   ]
  },
  {
   "cell_type": "code",
   "execution_count": null,
   "metadata": {},
   "outputs": [],
   "source": [
    "fname_fgmax_pts = 'fgmax_pts_%s.data' % loc\n",
    "topo_fgmax_pts.write(fname_fgmax_pts, topo_type=3, Z_format='%1i')\n",
    "print('Created %s' % fname_fgmax_pts)"
   ]
  },
  {
   "cell_type": "markdown",
   "metadata": {},
   "source": [
    "### Make kml figures and files"
   ]
  },
  {
   "cell_type": "code",
   "execution_count": null,
   "metadata": {
    "tags": [
     "hide-py"
    ]
   },
   "outputs": [],
   "source": [
    "kml_dir = 'fgmax_kmlfiles_%s' % loc\n",
    "os.system('mkdir -p %s' % kml_dir)\n",
    "print('Will put png and kml files in %s' % kml_dir)"
   ]
  },
  {
   "cell_type": "code",
   "execution_count": null,
   "metadata": {},
   "outputs": [],
   "source": [
    "# Make kml files showing extent of topo_fgmax:\n",
    "kml_extent_dir = os.path.join(kml_dir, 'extents')\n",
    "os.system('mkdir -p %s' % kml_extent_dir)\n",
    "print('Will put extent kml files in %s' % kml_extent_dir)\n",
    "\n",
    "name = loc + ' extent of topo_fgmax'\n",
    "fname_topo_fgmax = '%s/topo_fgmax_extent.kml' % kml_extent_dir\n",
    "kmltools.box2kml(topo_fgmax.extent, fname_topo_fgmax, name,\n",
    "                 color='00FF00',width=1,verbose=True)\n",
    "\n",
    "RR_extent = None\n",
    "if RR_extent:\n",
    "    # if a ruled rectangle further restricts fgmax points, make it's kml:\n",
    "    name = loc + ' RR_extent for fgmax'\n",
    "    fname_RR_fgmax = '%s/RR_extent_fgmax.kml' % kml_extent_dir\n",
    "    RR_extent.make_kml(fname_RR_fgmax, name, color='00FFFF', width=2, verbose=True)\n",
    "    "
   ]
  },
  {
   "cell_type": "code",
   "execution_count": null,
   "metadata": {
    "tags": [
     "hide-py"
    ]
   },
   "outputs": [],
   "source": [
    "Z_land = ma.masked_where(Z_fgmax<0., Z_fgmax)\n",
    "png_filename = '%s/fgmax_%s_land.png' % (kml_dir, loc)\n",
    "fig,ax,png_extent,kml_dpi = kmltools.pcolorcells_for_kml(topo_fgmax.X, topo_fgmax.Y, Z_land,\n",
    "                                                 png_filename=png_filename,\n",
    "                                                 dpc=2, cmap=cmap_topo, norm=norm_topo)"
   ]
  },
  {
   "cell_type": "code",
   "execution_count": null,
   "metadata": {},
   "outputs": [],
   "source": [
    "# Create a version of topo_fgmax.Z with all wet points masked out:\n",
    "\n",
    "wet_points = marching_front.select_by_flooding(Z_fgmax, Z1=-5., Z2=0., max_iters=None,\n",
    "                                               mask=mask_outside_extent)\n",
    "mask_dry = logical_not(wet_points)\n",
    "Z_dry = ma.masked_array(Z_fgmax, wet_points)"
   ]
  },
  {
   "cell_type": "code",
   "execution_count": null,
   "metadata": {},
   "outputs": [],
   "source": [
    "Z_water = ma.masked_where(mask_dry, Z_fgmax)\n",
    "png_filename = '%s/fgmax_%s_water.png' % (kml_dir, loc)\n",
    "fig,ax,png_extent,kml_dpi = kmltools.pcolorcells_for_kml(topo_fgmax.X, topo_fgmax.Y, Z_water,\n",
    "                                                 png_filename=png_filename,\n",
    "                                                 dpc=2, cmap=cmap_topo, norm=norm_topo)"
   ]
  },
  {
   "cell_type": "code",
   "execution_count": null,
   "metadata": {},
   "outputs": [],
   "source": [
    "kmltools.kml_build_colorbar('%s/fgmax_colorbar.png' % kml_dir, cmap_topo, \n",
    "                           norm=norm_topo, label='meters', title='topo', extend='min')"
   ]
  },
  {
   "cell_type": "code",
   "execution_count": null,
   "metadata": {
    "tags": [
     "hide-py"
    ]
   },
   "outputs": [],
   "source": [
    "png_files=['fgmax_%s_water.png' % loc, \n",
    "           'fgmax_%s_land.png' % loc]\n",
    "png_names=['fgmax_%s_water' % loc,\n",
    "           'fgmax_%s_land' % loc]\n",
    "cb_files = ['fgmax_colorbar.png']\n",
    "cb_names = ['colorbar_topo']\n",
    "\n",
    "name = 'fgmax_%s_topo' % loc\n",
    "fname = os.path.join(kml_dir, name+'.kml')\n",
    "kmltools.png2kml(png_extent, png_files=png_files, png_names=png_names, \n",
    "                 name=name, fname=fname,\n",
    "                 radio_style=False,\n",
    "                 cb_files=cb_files, cb_names=cb_names)"
   ]
  },
  {
   "cell_type": "code",
   "execution_count": null,
   "metadata": {
    "tags": [
     "hide-py"
    ]
   },
   "outputs": [],
   "source": [
    "savedir = os.getcwd()\n",
    "os.chdir(kml_dir)\n",
    "files = glob.glob('*.kml') + glob.glob('*.png')\n",
    "print('kmz file will include:')\n",
    "for file in files:\n",
    "    print('    %s' % os.path.split(file)[-1])\n",
    "\n",
    "fname_kmz = 'fgmax_topo_%s.kmz' % loc\n",
    "with zipfile.ZipFile(fname_kmz, 'w') as zip:\n",
    "    for file in files:\n",
    "        zip.write(file) \n",
    "    print('Created %s' % os.path.abspath(fname_kmz))\n",
    "os.chdir(savedir)"
   ]
  },
  {
   "cell_type": "code",
   "execution_count": null,
   "metadata": {},
   "outputs": [],
   "source": []
  }
 ],
 "metadata": {
  "kernelspec": {
   "display_name": "Python 3 (ipykernel)",
   "language": "python",
   "name": "python3"
  },
  "language_info": {
   "codemirror_mode": {
    "name": "ipython",
    "version": 3
   },
   "file_extension": ".py",
   "mimetype": "text/x-python",
   "name": "python",
   "nbconvert_exporter": "python",
   "pygments_lexer": "ipython3",
   "version": "3.10.13"
  }
 },
 "nbformat": 4,
 "nbformat_minor": 4
}
