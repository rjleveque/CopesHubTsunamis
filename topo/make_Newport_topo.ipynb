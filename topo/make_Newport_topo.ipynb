{
 "cells": [
  {
   "cell_type": "markdown",
   "id": "dd9ffc52-17d5-43b6-a7dd-64f0cae425a2",
   "metadata": {},
   "source": [
    "# make_Newport_topo\n",
    "\n",
    "Using tiles downloaded from \n",
    "https://www.ngdc.noaa.gov/thredds/catalog/tiles/nthmp/tiled_19as/catalog.html\n",
    "\n",
    "R.J. LeVeque, 1/30/25"
   ]
  },
  {
   "cell_type": "code",
   "execution_count": null,
   "id": "29a03a47-c765-43d6-a14a-6424a372b992",
   "metadata": {},
   "outputs": [],
   "source": [
    "%matplotlib inline"
   ]
  },
  {
   "cell_type": "code",
   "execution_count": null,
   "id": "c336b54c-c134-43d6-b984-d820c981ba84",
   "metadata": {},
   "outputs": [],
   "source": [
    "from pylab import *\n",
    "from clawpack.geoclaw import topotools\n",
    "import os\n",
    "\n",
    "sys.path.insert(0,'../common_code')\n",
    "import new_topotools  # with merge tools"
   ]
  },
  {
   "cell_type": "markdown",
   "id": "cc681f21-75a0-4328-85d4-254fb841d07e",
   "metadata": {},
   "source": [
    "### Function to adjust to MHW, make plot and topofile:"
   ]
  },
  {
   "cell_type": "code",
   "execution_count": null,
   "id": "9f025013-4210-4645-8fe8-fc1792b627cb",
   "metadata": {},
   "outputs": [],
   "source": [
    "def adjust_dz_plot_save(topo, name, dz=-2.05):\n",
    "    \"\"\"\n",
    "    Adjust topo by dz, save the topofile as <name>.asc\n",
    "    and create a plot saved as <name>.png\n",
    "\n",
    "    To adjust from NAVD88 to MHW, dz = -2.05 seems right for Newport region from VDATUM\n",
    "       https://vdatum.noaa.gov/vdatumweb/vdatumweb?a=191901220200922#Point\n",
    "    Set dz=0 to create files for original NAVD88.\n",
    "    \"\"\"\n",
    "\n",
    "    Z_mhw = topo.Z + dz\n",
    "    topo_mhw = topo.crop() # create a copy\n",
    "    topo_mhw.set_xyZ(topo.x, topo.y, Z_mhw)  # reset Z array\n",
    "\n",
    "    fig,ax = subplots()\n",
    "    topo_mhw.plot(limits=[-50,50],axes=ax,\n",
    "            cb_kwargs={'extend':'both', 'shrink':0.7})\n",
    "    title(name)\n",
    "    fname = '%s.png' % name\n",
    "    savefig(fname, bbox_inches='tight')\n",
    "    print('Created ',fname)\n",
    "\n",
    "    fname = '%s.asc' % name\n",
    "    topo_mhw.write(fname,topo_type=3,header_style='asc',Z_format='%12.5e')\n",
    "    print('Created ',fname)\n",
    "\n",
    "    return topo_mhw\n",
    "    "
   ]
  },
  {
   "cell_type": "code",
   "execution_count": null,
   "id": "1bd4a3c7-bae4-49d3-bf75-d998a54c6b95",
   "metadata": {},
   "outputs": [],
   "source": [
    "topodir = '/Users/rjl/topo/CUDEM'"
   ]
  },
  {
   "cell_type": "markdown",
   "id": "fce2360b-1868-4c25-806b-0bfd63f2ee47",
   "metadata": {},
   "source": [
    "## Tile covering coastal Newport:"
   ]
  },
  {
   "cell_type": "code",
   "execution_count": null,
   "id": "4d5b3451-912c-43e4-b2dc-125c92f5a7c2",
   "metadata": {},
   "outputs": [],
   "source": [
    "extent = [-124.15, -123.01, 44.55, 44.68]\n",
    "fname = 'ncei19_n44x75_w124x25_navd88_2021.nc'\n",
    "topo1 = topotools.read_netcdf(os.path.join(topodir,fname), extent=extent,\n",
    "                             coarsen=1, verbose=True)"
   ]
  },
  {
   "cell_type": "code",
   "execution_count": null,
   "id": "02dbbc03-3a17-4e31-a06c-cfc348571a70",
   "metadata": {},
   "outputs": [],
   "source": [
    "print('Extent: \\n', topo1.extent)\n",
    "print('Offset in x = %.3f 1/9\" cells' % ((topo1.x[0]+124)*9*3600))\n",
    "print('Offset in y = %.3f 1/9\" cells' % ((topo1.y[0]-44)*9*3600))\n",
    "print('These should be integers if aligned so DEM point is at integer lat-long')"
   ]
  },
  {
   "cell_type": "markdown",
   "id": "c4f4c257-4192-4df3-9e0d-89fdbf235d29",
   "metadata": {},
   "source": [
    "### crop around Yaquina Bay at full 1/9\" resolution"
   ]
  },
  {
   "cell_type": "code",
   "execution_count": null,
   "id": "dc6eee12-bb07-4ea6-b0b2-337208947140",
   "metadata": {},
   "outputs": [],
   "source": [
    "extent = [-124.09, -124.0, 44.6, 44.635]\n",
    "topo1a = topo1.crop(filter_region=extent)\n",
    "print('Extent: \\n', topo1a.extent)\n",
    "print('Offset in x = %.3f 1/9\" cells' % ((topo1a.x[0]+124)*9*3600))\n",
    "print('Offset in y = %.3f 1/9\" cells' % ((topo1a.y[0]-44)*9*3600))\n",
    "print('These should be integers if aligned so DEM point is at integer lat-long')"
   ]
  },
  {
   "cell_type": "code",
   "execution_count": null,
   "id": "3af3f916-d509-4e85-bafd-fbdd0833c857",
   "metadata": {},
   "outputs": [],
   "source": [
    "topo1a_mhw = adjust_dz_plot_save(topo1a, 'YaquinaBay_19s_mhw', dz=-2.05)"
   ]
  },
  {
   "cell_type": "markdown",
   "id": "3138caaa-639e-433a-b17f-aab0d454daac",
   "metadata": {},
   "source": [
    "### Coarsen by 3 to obtain 1/3\" DEM"
   ]
  },
  {
   "cell_type": "code",
   "execution_count": null,
   "id": "9b4bebb4-7cff-4d17-b3ad-04fb6f808415",
   "metadata": {},
   "outputs": [],
   "source": [
    "topo = topo1\n",
    "istart = 2\n",
    "jstart = 0\n",
    "print('Using istart = %i, Offset in x = %.3f 1/3\" cells' % (istart, (topo.x[istart]+124)*3*3600))\n",
    "print('Using jstart = %i, Offset in y = %.3f 1/3\" cells' % (jstart, (topo.y[jstart]-44)*3*3600))\n",
    "print('These should be integers if aligned so COARSENED-BY-3 DEM hits integer lat-long')\n",
    "eps = 0.5/(9*3600.)  # half a cell width\n",
    "filter_region = [topo.x[istart] - eps, topo.x[-1] + eps, topo.y[jstart] - eps, topo.y[-1] + eps]\n",
    "print('Crop using\\n   filter_region = ',filter_region)"
   ]
  },
  {
   "cell_type": "code",
   "execution_count": null,
   "id": "1b6a0acd-0e25-488d-aea4-4c0586ea80cf",
   "metadata": {},
   "outputs": [],
   "source": [
    "topo1c = topo1.crop(filter_region=filter_region, coarsen=3)\n",
    "print('Extent: \\n', topo1c.extent)\n",
    "print('Offset in x = %.3f 1/3\" cells' % ((topo1c.x[0]+124)*3*3600))\n",
    "print('Offset in y = %.3f 1/3\" cells' % ((topo1c.y[0]-44)*3*3600))\n",
    "print('These should be integers if aligned so DEM point is at integer lat-long')"
   ]
  },
  {
   "cell_type": "code",
   "execution_count": null,
   "id": "622869f5-c3c6-45b6-879e-ab6760acc585",
   "metadata": {},
   "outputs": [],
   "source": [
    "if 0:\n",
    "    # plot and save in original NAVD88\n",
    "    adjust_dz_plot_save(topo1c, 'Newport_13s', dz=0.)"
   ]
  },
  {
   "cell_type": "code",
   "execution_count": null,
   "id": "11a46644-8dfe-4038-8673-1b40d1116adb",
   "metadata": {},
   "outputs": [],
   "source": [
    "topo1c_mhw = adjust_dz_plot_save(topo1c, 'Newport_13s_mhw', dz=-2.05)"
   ]
  },
  {
   "cell_type": "markdown",
   "id": "05ec4e29-a28f-4d0d-8bfd-53432eb8d9b5",
   "metadata": {},
   "source": [
    "## Tile covering East of Newport (up the Yaquina River)"
   ]
  },
  {
   "cell_type": "code",
   "execution_count": null,
   "id": "95e92b84-927e-4a92-938d-36188e28cbd5",
   "metadata": {},
   "outputs": [],
   "source": [
    "extent = [-124.01, -123.9, 44.55, 44.68]\n",
    "fname = 'ncei19_n44x75_w124x00_navd88_2021.nc'\n",
    "topo2 = topotools.read_netcdf(os.path.join(topodir,fname), extent=extent,\n",
    "                             coarsen=1, verbose=True)"
   ]
  },
  {
   "cell_type": "code",
   "execution_count": null,
   "id": "bf7a5b3b-0af4-4120-b0f0-488a31fda2c1",
   "metadata": {},
   "outputs": [],
   "source": [
    "print('Extent: \\n', topo2.extent)\n",
    "print('Offset in x = %.3f 1/9\" cells' % ((topo2.x[0]+124)*9*3600))\n",
    "print('Offset in y = %.3f 1/9\" cells' % ((topo2.y[0]-44)*9*3600))\n",
    "print('These should be integers if aligned so DEM point is at integer lat-long')"
   ]
  },
  {
   "cell_type": "markdown",
   "id": "8cf0c03b-dea0-4d81-890d-a47073c618e4",
   "metadata": {},
   "source": [
    "### Coarsen by 3 to obtain 1/3\" DEM"
   ]
  },
  {
   "cell_type": "code",
   "execution_count": null,
   "id": "0123f35b-97d9-4856-8266-80fafb5c1e0a",
   "metadata": {},
   "outputs": [],
   "source": [
    "topo = topo2\n",
    "istart = 0\n",
    "jstart = 0\n",
    "print('Using istart = %i, Offset in x = %.3f 1/3\" cells' % (istart, (topo.x[istart]+124)*3*3600))\n",
    "print('Using jstart = %i, Offset in y = %.3f 1/3\" cells' % (jstart, (topo.y[jstart]-44)*3*3600))\n",
    "print('These should be integers if aligned so COARSENED-BY-3 DEM hits integer lat-long')\n",
    "eps = 0.5/(9*3600.)  # half a cell width\n",
    "filter_region = [topo.x[istart] - eps, topo.x[-1] + eps, topo.y[jstart] - eps, topo.y[-1] + eps]\n",
    "print('Crop using\\n   filter_region = ',filter_region)"
   ]
  },
  {
   "cell_type": "code",
   "execution_count": null,
   "id": "d7c5ad73-28f7-4508-8744-b93330fafffd",
   "metadata": {},
   "outputs": [],
   "source": [
    "topo2c = topo2.crop(filter_region=filter_region, coarsen=3)\n",
    "print('Extent: \\n', topo1c.extent)\n",
    "print('Offset in x = %.3f 1/3\" cells' % ((topo2c.x[0]+124)*3*3600))\n",
    "print('Offset in y = %.3f 1/3\" cells' % ((topo2c.y[0]-44)*3*3600))\n",
    "print('These should be integers if aligned so DEM point is at integer lat-long')"
   ]
  },
  {
   "cell_type": "code",
   "execution_count": null,
   "id": "598dce7f-8d40-420f-a69d-20fde1e8f91f",
   "metadata": {},
   "outputs": [],
   "source": [
    "topo2c_mhw = adjust_dz_plot_save(topo2c, 'NewportE_13s_mhw', dz=-2.05)"
   ]
  },
  {
   "cell_type": "code",
   "execution_count": null,
   "id": "1635e99f-4597-4db2-9326-f40e923c534f",
   "metadata": {},
   "outputs": [],
   "source": []
  }
 ],
 "metadata": {
  "kernelspec": {
   "display_name": "Python 3 (ipykernel)",
   "language": "python",
   "name": "python3"
  },
  "language_info": {
   "codemirror_mode": {
    "name": "ipython",
    "version": 3
   },
   "file_extension": ".py",
   "mimetype": "text/x-python",
   "name": "python",
   "nbconvert_exporter": "python",
   "pygments_lexer": "ipython3",
   "version": "3.10.13"
  }
 },
 "nbformat": 4,
 "nbformat_minor": 5
}
