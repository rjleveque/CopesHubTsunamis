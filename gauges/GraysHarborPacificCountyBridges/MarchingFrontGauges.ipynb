{
 "cells": [
  {
   "cell_type": "markdown",
   "metadata": {},
   "source": [
    "# MarchingFrontGauges\n",
    "\n",
    "## Identifying bridges within the potential inundation zone\n",
    " \n",
    "This [Jupyter notebook](http://www.jupyter.org) is based on the GeoClaw [MarchingFront](https://www.clawpack.org/gallery/_static/apps/notebooks/geoclaw/MarchingFront.html) notebook in the [Clawpack Gallery](https://www.clawpack.org/gallery/notebooks.html#notebooks)."
   ]
  },
  {
   "cell_type": "markdown",
   "metadata": {},
   "source": [
    "The module [clawpack.geoclaw.marching_front.py](https://github.com/clawpack/geoclaw/blob/master/src/python/geoclaw/marching_front.py) defines a function `select_by_flooding` that takes as input an array `Ztopo` containing topography elevations on a rectangular grid and returns an array `pt_chosen` of the same shape with values 1 (if chosen) or 0 (if not chosen).  Other inputs specify the criteria used to choose points, as described below.\n",
    "\n",
    "The basic idea is that chosen points satisfy certain elevation requirements along with connectivity to the coast.  This was originally developed to identify points in a topography DEM where the topography value $Z$ is below MHW, but that should be initialized as dry land because they are in regions protected by dikes or levies.  \n",
    "\n",
    "Here it is used to identify bridges that are potentially in the tsunami inundation zone and create a list of synthetic gauges to use in GeoClaw simulations."
   ]
  },
  {
   "cell_type": "code",
   "execution_count": null,
   "metadata": {},
   "outputs": [],
   "source": [
    "%matplotlib inline"
   ]
  },
  {
   "cell_type": "code",
   "execution_count": null,
   "metadata": {},
   "outputs": [],
   "source": [
    "from pylab import *\n",
    "import os,sys\n",
    "from numpy import ma # masked arrays\n",
    "from clawpack.visclaw import colormaps, plottools\n",
    "from clawpack.geoclaw import topotools, marching_front\n",
    "from clawpack.amrclaw import region_tools"
   ]
  },
  {
   "cell_type": "code",
   "execution_count": null,
   "metadata": {},
   "outputs": [],
   "source": [
    "import pandas as pd\n",
    "from scipy import interpolate"
   ]
  },
  {
   "cell_type": "code",
   "execution_count": null,
   "metadata": {},
   "outputs": [],
   "source": [
    "CHT = os.environ['CHT']\n",
    "sys.path.insert(0,os.path.join(CHT,'common_code'))\n",
    "from center_points import adjust"
   ]
  },
  {
   "cell_type": "code",
   "execution_count": null,
   "metadata": {},
   "outputs": [],
   "source": [
    "zmin = -60.\n",
    "zmax = 30.\n",
    "\n",
    "land_cmap = colormaps.make_colormap({ 0.0:[0.1,0.4,0.0],\n",
    "                                     0.25:[0.0,1.0,0.0],\n",
    "                                      0.5:[0.8,1.0,0.5],\n",
    "                                      1.0:[0.8,0.5,0.2]})\n",
    "\n",
    "sea_cmap = colormaps.make_colormap({ 0.0:[0,0,1], 1.:[.8,.8,1]})\n",
    "\n",
    "cmap, norm = colormaps.add_colormaps((land_cmap, sea_cmap),\n",
    "                                     data_limits=(zmin,zmax),\n",
    "                                     data_break=0.)\n",
    "                                     \n",
    "sea_cmap_dry = colormaps.make_colormap({ 0.0:[1.0,0.7,0.7], 1.:[1.0,0.7,0.7]})\n",
    "cmap_dry, norm_dry = colormaps.add_colormaps((land_cmap, sea_cmap_dry),\n",
    "                                     data_limits=(zmin,zmax),\n",
    "                                     data_break=0.)"
   ]
  },
  {
   "cell_type": "markdown",
   "metadata": {},
   "source": [
    "## Sample topography from a 2 arcsecond DEM\n"
   ]
  },
  {
   "cell_type": "code",
   "execution_count": null,
   "metadata": {},
   "outputs": [],
   "source": [
    "topo = topotools.Topography('/Users/rjl/topo/topofiles/GHWB_2sec.asc', topo_type=3)"
   ]
  },
  {
   "cell_type": "code",
   "execution_count": null,
   "metadata": {},
   "outputs": [],
   "source": [
    "extent = topo.extent\n",
    "x1,x2,y1,y2 = extent  # unpack"
   ]
  },
  {
   "cell_type": "code",
   "execution_count": null,
   "metadata": {},
   "outputs": [],
   "source": [
    "figure(figsize=(12,6))\n",
    "plottools.pcolorcells(topo.X, topo.Y, topo.Z, cmap=cmap, norm=norm)\n",
    "colorbar(extend='both')\n",
    "gca().set_aspect(1./cos(48*pi/180.))"
   ]
  },
  {
   "cell_type": "markdown",
   "metadata": {},
   "source": [
    "<div id=\"find-Zlow\"></div>\n",
    "\n",
    "### Finding all points below a given elevation\n"
   ]
  },
  {
   "cell_type": "markdown",
   "metadata": {},
   "source": [
    "First we choose all points with elevation below 15 m and that are connected to the coast over this topography extent."
   ]
  },
  {
   "cell_type": "code",
   "execution_count": null,
   "metadata": {},
   "outputs": [],
   "source": [
    "pts_chosen = marching_front.select_by_flooding(topo.Z, Z1=0, Z2=30., max_iters=None) "
   ]
  },
  {
   "cell_type": "code",
   "execution_count": null,
   "metadata": {},
   "outputs": [],
   "source": [
    "Zmasked = ma.masked_array(topo.Z, logical_not(pts_chosen))"
   ]
  },
  {
   "cell_type": "code",
   "execution_count": null,
   "metadata": {},
   "outputs": [],
   "source": [
    "figure(figsize=(12,6))\n",
    "plottools.pcolorcells(topo.X, topo.Y, Zmasked, cmap=cmap, norm=norm)\n",
    "colorbar(extend='both')\n",
    "gca().set_aspect(1./cos(topo.y.mean()*pi/180.))"
   ]
  },
  {
   "cell_type": "markdown",
   "metadata": {},
   "source": [
    "### Create a buffer zone along shore"
   ]
  },
  {
   "cell_type": "markdown",
   "metadata": {},
   "source": [
    "To select more points along the shore where the topography is steep, we could have first used `max_iters`.  \n",
    "\n",
    "To illustrate this, we start again and fist use `max_iters = 5` so that at least 5 grid points are selected near the coast, also setting `Z2 = 1e6` (a huge value) so that the arbitrarily high regions will be included if they are within 5 DEM grid cells of the coast:"
   ]
  },
  {
   "cell_type": "code",
   "execution_count": null,
   "metadata": {},
   "outputs": [],
   "source": [
    "pts_chosen = marching_front.select_by_flooding(topo.Z, Z1=0, Z2=1e6, max_iters=5) "
   ]
  },
  {
   "cell_type": "markdown",
   "metadata": {},
   "source": [
    "Plot what we have so far:"
   ]
  },
  {
   "cell_type": "code",
   "execution_count": null,
   "metadata": {},
   "outputs": [],
   "source": [
    "Zmasked = ma.masked_array(topo.Z, logical_not(pts_chosen))\n",
    "\n",
    "figure(figsize=(12,6))\n",
    "plottools.pcolorcells(topo.X, topo.Y, Zmasked, cmap=cmap, norm=norm)\n",
    "colorbar(extend='both')\n",
    "gca().set_aspect(1./cos(topo.y.mean()*pi/180.))"
   ]
  },
  {
   "cell_type": "markdown",
   "metadata": {},
   "source": [
    "Then we augment the points already chosen with any points below 30 m and connected to the coast:"
   ]
  },
  {
   "cell_type": "code",
   "execution_count": null,
   "metadata": {},
   "outputs": [],
   "source": [
    "pts_chosen = marching_front.select_by_flooding(topo.Z, Z1=0, Z2=30., \n",
    "                                               prev_pts_chosen=pts_chosen,\n",
    "                                               max_iters=None) "
   ]
  },
  {
   "cell_type": "code",
   "execution_count": null,
   "metadata": {},
   "outputs": [],
   "source": [
    "Zmasked = ma.masked_array(topo.Z, logical_not(pts_chosen))\n",
    "\n",
    "figure(figsize=(12,6))\n",
    "plottools.pcolorcells(topo.X, topo.Y, Zmasked, cmap=cmap, norm=norm)\n",
    "colorbar(extend='both')\n",
    "gca().set_aspect(1./cos(topo.y.mean()*pi/180.))"
   ]
  },
  {
   "cell_type": "code",
   "execution_count": null,
   "metadata": {},
   "outputs": [],
   "source": [
    "pts_chosen_shallow = marching_front.select_by_flooding(topo.Z, Z1=0, Z2=-15., max_iters=None) "
   ]
  },
  {
   "cell_type": "code",
   "execution_count": null,
   "metadata": {},
   "outputs": [],
   "source": [
    "Zshallow = ma.masked_array(topo.Z, logical_not(pts_chosen_shallow))"
   ]
  },
  {
   "cell_type": "code",
   "execution_count": null,
   "metadata": {},
   "outputs": [],
   "source": [
    "figure(figsize=(12,6))\n",
    "plottools.pcolorcells(topo.X, topo.Y, Zshallow, cmap=cmap, norm=norm)\n",
    "colorbar(extend='both')\n",
    "gca().set_aspect(1./cos(topo.y.mean()*pi/180.))"
   ]
  },
  {
   "cell_type": "markdown",
   "metadata": {},
   "source": [
    "Note that this chooses *all* onshore points in addition to offshore points with elevation greater than -15 m.  \n",
    "\n",
    "We can take the intersection of this set of points with the onshore points previously chosen to get only the points that lie near the coast:"
   ]
  },
  {
   "cell_type": "code",
   "execution_count": null,
   "metadata": {},
   "outputs": [],
   "source": [
    "pts_chosen_nearshore = logical_and(pts_chosen, pts_chosen_shallow)\n",
    "Znearshore = ma.masked_array(topo.Z, logical_not(pts_chosen_nearshore))"
   ]
  },
  {
   "cell_type": "code",
   "execution_count": null,
   "metadata": {},
   "outputs": [],
   "source": [
    "figure(figsize=(12,6))\n",
    "plottools.pcolorcells(topo.X, topo.Y, Znearshore, cmap=cmap, norm=norm)\n",
    "colorbar(extend='both')\n",
    "gca().set_aspect(1./cos(48*pi/180.))"
   ]
  },
  {
   "cell_type": "code",
   "execution_count": null,
   "metadata": {},
   "outputs": [],
   "source": [
    "topo.Z.shape, pts_chosen_nearshore.shape"
   ]
  },
  {
   "cell_type": "code",
   "execution_count": null,
   "metadata": {},
   "outputs": [],
   "source": [
    "topo_fcn = interpolate.RegularGridInterpolator((topo.x, topo.y), topo.Z.T,\n",
    "                                                bounds_error=False, fill_value=99999)\n",
    "flag_fcn = interpolate.RegularGridInterpolator((topo.x, topo.y), pts_chosen_nearshore.T,\n",
    "                                                bounds_error=False, fill_value=0)"
   ]
  },
  {
   "cell_type": "code",
   "execution_count": null,
   "metadata": {},
   "outputs": [],
   "source": [
    "x = -124.2\n",
    "y = 46.4\n",
    "xypts = array([x,y])\n",
    "topo_fcn(xypts), flag_fcn(xypts)"
   ]
  },
  {
   "cell_type": "code",
   "execution_count": null,
   "metadata": {},
   "outputs": [],
   "source": [
    "topo_fcn = interpolate.RegularGridInterpolator((topo.x, topo.y),topo.Z.T,\n",
    "                                               bounds_error=False, fill_value=99999)\n",
    "flag_fcn = interpolate.RegularGridInterpolator((topo.x, topo.y),pts_chosen.T,\n",
    "                                               bounds_error=False, fill_value=0)"
   ]
  },
  {
   "cell_type": "markdown",
   "metadata": {},
   "source": [
    "## Gauges"
   ]
  },
  {
   "cell_type": "code",
   "execution_count": null,
   "metadata": {},
   "outputs": [],
   "source": [
    "fname = 'GraysHarborPacificCounty.csv'\n",
    "bridges = pd.read_csv(fname)\n",
    "bridges.shape"
   ]
  },
  {
   "cell_type": "code",
   "execution_count": null,
   "metadata": {},
   "outputs": [],
   "source": [
    "bridges1 = bridges[logical_and(x1 <= bridges['Longitude'], bridges['Longitude'] <= x2)]"
   ]
  },
  {
   "cell_type": "code",
   "execution_count": null,
   "metadata": {},
   "outputs": [],
   "source": [
    "bridges1 = bridges1[logical_and(y1 <= bridges1['Latitude'], bridges1['Latitude'] <= y2)]"
   ]
  },
  {
   "cell_type": "code",
   "execution_count": null,
   "metadata": {},
   "outputs": [],
   "source": [
    "bridges1.shape"
   ]
  },
  {
   "cell_type": "code",
   "execution_count": null,
   "metadata": {},
   "outputs": [],
   "source": [
    "gaugenos = array(bridges1['ID'])\n",
    "xg = bridges1['Longitude']\n",
    "yg = bridges1['Latitude']"
   ]
  },
  {
   "cell_type": "code",
   "execution_count": null,
   "metadata": {},
   "outputs": [],
   "source": [
    "xypts = array([xg,yg]).T\n",
    "xypts.shape"
   ]
  },
  {
   "cell_type": "code",
   "execution_count": null,
   "metadata": {},
   "outputs": [],
   "source": [
    "topo_xypts = topo_fcn(xypts)\n",
    "flag_xypts = flag_fcn(xypts)"
   ]
  },
  {
   "cell_type": "code",
   "execution_count": null,
   "metadata": {},
   "outputs": [],
   "source": [
    "# print out all gauges, topo value, and flag:\n",
    "\n",
    "if 0:\n",
    "    for k,topoval in enumerate(topo_xypts):\n",
    "        print('Gauge %s: topo = %5.1fm,   flag = %.2f' \\\n",
    "              % (gaugenos[k],topo_xypts[k],flag_xypts[k]))\n",
    "    "
   ]
  },
  {
   "cell_type": "markdown",
   "metadata": {},
   "source": [
    "## make kml file:\n",
    "\n",
    "Gauges selected are shown as red, others are yellow."
   ]
  },
  {
   "cell_type": "code",
   "execution_count": null,
   "metadata": {},
   "outputs": [],
   "source": [
    "fname_kml = os.path.splitext(fname)[0] + '_flags.kml'\n",
    "\n",
    "with open(fname_kml,'w') as kml_file:\n",
    "    kml_file.write(\"\"\"<?xml version=\"1.0\" encoding=\"UTF-8\"?>\n",
    "        <kml xmlns=\"http://www.opengis.net/kml/2.2\"\n",
    "        xmlns:gx=\"http://www.google.com/kml/ext/2.2\">\n",
    "        <Document><name>%s</name>\n",
    "\n",
    "        <Style id=\"Red\">\n",
    "        <IconStyle><color>FF0000FF</color></IconStyle>\n",
    "        </Style>\n",
    "\n",
    "        <Style id=\"Yellow\">\n",
    "        <IconStyle><color>FF00FFFF</color></IconStyle>\n",
    "        </Style>\n",
    "        \"\"\"  % fname)\n",
    "\n",
    "    for gaugeno,x,y,topopt,flagpt in zip(gaugenos, xg, yg, topo_xypts, flag_xypts):\n",
    "\n",
    "        if flagpt > 0:\n",
    "            kml_file.write(\"\"\"\n",
    "                <Placemark><name>%s</name>\n",
    "                <description>x=%.5f, y=%.5f, topo=%5.1fm, flag=%.2f</description>\n",
    "                <styleUrl>#%s</styleUrl>\n",
    "                <Point>\n",
    "                <coordinates>\n",
    "                %.9f, %.9f, 0.0\n",
    "                </coordinates>\n",
    "                </Point>\n",
    "                </Placemark>\n",
    "                \"\"\" % (gaugeno,x,y,topopt,flagpt,'Red',x,y))\n",
    "\n",
    "\n",
    "        else:\n",
    "            # adjust so x,y are at cell centers of 1/3\" grid:\n",
    "            #x = adjust(x, x_edge, dx, verbose=True)\n",
    "            #y = adjust(y, y_edge, dy, verbose=True)\n",
    "            kml_file.write(\"\"\"\n",
    "                <Placemark><name>%s</name>\n",
    "                <description>x=%.5f, y=%.5f, topo=%5.1fm, flag=%.2f</description>\n",
    "                <styleUrl>#%s</styleUrl>\n",
    "                <Point>\n",
    "                <coordinates>\n",
    "                %.9f, %.9f, 0.0\n",
    "                </coordinates>\n",
    "                </Point>\n",
    "                </Placemark>\n",
    "                \"\"\" % (gaugeno,x,y,topopt,flagpt,'Yellow',x,y))\n",
    "\n",
    "    kml_file.write(\"\\n</Document>\\n</kml>\")\n",
    "\n",
    "print('\\nCreated %s' % fname_kml)"
   ]
  },
  {
   "cell_type": "code",
   "execution_count": null,
   "metadata": {},
   "outputs": [],
   "source": []
  }
 ],
 "metadata": {
  "kernelspec": {
   "display_name": "Python 3 (ipykernel)",
   "language": "python",
   "name": "python3"
  },
  "language_info": {
   "codemirror_mode": {
    "name": "ipython",
    "version": 3
   },
   "file_extension": ".py",
   "mimetype": "text/x-python",
   "name": "python",
   "nbconvert_exporter": "python",
   "pygments_lexer": "ipython3",
   "version": "3.11.6"
  }
 },
 "nbformat": 4,
 "nbformat_minor": 4
}
