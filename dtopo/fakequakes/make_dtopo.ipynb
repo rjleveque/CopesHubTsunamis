{
 "cells": [
  {
   "cell_type": "markdown",
   "metadata": {},
   "source": [
    "# Generating dtopo files for CSZ fakequakes\n",
    "\n",
    "### Modified to make plots to compare with new CoPes Hub ground motions\n",
    "\n",
    "\n",
    "This notebooks demonstrates how the GeoClaw `dtopotools` module can be used to generate the dtopo file for a kinematic rupture specified on a set of triangular subfaults (available starting in Clawpack Version 5.5.0).  \n",
    "\n",
    "This uses one of the 1300 \"fakequake\" realizations from the paper\n",
    "\n",
    "- *Kinematic rupture scenarios and synthetic displacement data: An example application to the Cascadia subduction zone* by Diego Melgar, R. J. LeVeque, Douglas S. Dreger, Richard M. Allen,  J. Geophys. Res. -- Solid Earth 121 (2016), p. 6658. [doi:10.1002/2016JB013314](http://dx.doi.org/10.1002/2016JB013314). \n",
    "\n",
    "This requires `cascadia30.mshout` containing the geometry of the triangulated fault surface, from\n",
    "  https://github.com/dmelgarm/MudPy/blob/master/examples/fakequakes/3D/cascadia30.mshout\n",
    "\n",
    "It also requires a rupture scenario in the form of a `.rupt` file from the collection of fakequakes archived at  <https://zenodo.org/record/59943#.WgHuahNSxE4>.\n",
    "\n",
    "This sample uses one rupture scenario, which can be changed by setting `rnum`.\n",
    "\n",
    "Adapted from [this notebook](https://github.com/rjleveque/MLSJdF2021/blob/main/geoclaw_runs/make_dtopo/CSZ_fault_geometry.ipynb), developed for [this paper](https://faculty.washington.edu/rjl/pubs/MLSJdF2021/index.html)\n",
    "\n"
   ]
  },
  {
   "cell_type": "markdown",
   "metadata": {},
   "source": [
    "# Version\n",
    "\n",
    "Modified June 2024, Runs with Clawpack v5.10.0"
   ]
  },
  {
   "cell_type": "code",
   "execution_count": null,
   "metadata": {},
   "outputs": [],
   "source": [
    "%matplotlib inline"
   ]
  },
  {
   "cell_type": "code",
   "execution_count": null,
   "metadata": {},
   "outputs": [],
   "source": [
    "from clawpack.geoclaw import dtopotools, topotools\n",
    "import matplotlib as mpl\n",
    "import matplotlib.pyplot as plt\n",
    "import numpy as np\n",
    "from clawpack.visclaw.plottools import plotbox\n",
    "import os\n",
    "from clawpack.visclaw import animation_tools\n",
    "from IPython.display import HTML"
   ]
  },
  {
   "cell_type": "markdown",
   "metadata": {},
   "source": [
    "#### Set location of fakequakes downloaded from zenodo:\n",
    "Also put `cascadia30.mshout` in this directory."
   ]
  },
  {
   "cell_type": "code",
   "execution_count": null,
   "metadata": {},
   "outputs": [],
   "source": [
    "fqdir = '/Users/rjl/D/fakequakes_cascadia'"
   ]
  },
  {
   "cell_type": "markdown",
   "metadata": {},
   "source": [
    "## Load etopo1 topo and extract coastline for plotting"
   ]
  },
  {
   "cell_type": "code",
   "execution_count": null,
   "metadata": {},
   "outputs": [],
   "source": [
    "extent = [-130,-122,39,52]\n",
    "topo = topotools.read_netcdf('etopo1', extent=extent)\n",
    "\n",
    "# generate coast_xy from etopo1 data:\n",
    "coast_xy = topo.make_shoreline_xy()"
   ]
  },
  {
   "cell_type": "markdown",
   "metadata": {},
   "source": [
    "### Set up CSZ geometry"
   ]
  },
  {
   "cell_type": "code",
   "execution_count": null,
   "metadata": {},
   "outputs": [],
   "source": [
    "fault_geometry_file = '%s/cascadia30.mshout' % fqdir\n",
    "print('Reading fault geometry from %s' % fault_geometry_file)\n",
    "print('\\nHeader:\\n')\n",
    "print(open(fault_geometry_file).readline())"
   ]
  },
  {
   "cell_type": "code",
   "execution_count": null,
   "metadata": {},
   "outputs": [],
   "source": [
    "# read in .mshout (CSZ geoemetry)\n",
    "\n",
    "cascadia = np.loadtxt(fault_geometry_file,skiprows=1)\n",
    "cascadia[:,[3,6,9,12]] = 1e3*abs(cascadia[:,[3,6,9,12]])\n",
    "\n",
    "print('Loaded geometry for %i triangular subfaults' % cascadia.shape[0])"
   ]
  },
  {
   "cell_type": "markdown",
   "metadata": {},
   "source": [
    "For example, the first triangular fault in the given geometry of CSZ has the nodes"
   ]
  },
  {
   "cell_type": "code",
   "execution_count": null,
   "metadata": {},
   "outputs": [],
   "source": [
    "print(cascadia[0,4:7])\n",
    "print(cascadia[0,7:10])\n",
    "print(cascadia[0,10:13])"
   ]
  },
  {
   "cell_type": "markdown",
   "metadata": {},
   "source": [
    "### Plot the subfaults:"
   ]
  },
  {
   "cell_type": "markdown",
   "metadata": {},
   "source": [
    "Set up a fault model with these subfaults, without yet specifying a particular earthquake scenario. "
   ]
  },
  {
   "cell_type": "code",
   "execution_count": null,
   "metadata": {},
   "outputs": [],
   "source": [
    "fault0 = dtopotools.Fault()\n",
    "fault0.subfaults = []\n",
    "\n",
    "nsubfaults = cascadia.shape[0]\n",
    "\n",
    "for j in range(nsubfaults):\n",
    "    subfault0 = dtopotools.SubFault()\n",
    "    node1 = cascadia[j,4:7].tolist()\n",
    "    node2 = cascadia[j,7:10].tolist()\n",
    "    node3 = cascadia[j,10:13].tolist()\n",
    "    node_list = [node1,node2,node3]\n",
    "    subfault0.set_corners(node_list,projection_zone='10')  # '10T' changed to '10'\n",
    "    fault0.subfaults.append(subfault0)"
   ]
  },
  {
   "cell_type": "markdown",
   "metadata": {},
   "source": [
    "Now we can plot the triangular subplots:"
   ]
  },
  {
   "cell_type": "code",
   "execution_count": null,
   "metadata": {},
   "outputs": [],
   "source": [
    "fig = plt.figure(figsize=(15,10))\n",
    "ax = plt.axes()\n",
    "plt.contourf(topo.X, topo.Y, topo.Z, [0,10000], colors=[[.6,1,.6]])\n",
    "for s in fault0.subfaults:\n",
    "    c = s.corners\n",
    "    c.append(c[0])\n",
    "    c = np.array(c)\n",
    "    ax.plot(c[:,0],c[:,1], 'b',linewidth=0.3)\n",
    "plt.plot(coast_xy[:,0], coast_xy[:,1], 'g', linewidth=0.7)\n",
    "plotbox([-125,-122.1,47.88,48.75], {'color':'k','linewidth':0.7})\n",
    "ax.set_xlim(-130,-122)\n",
    "ax.set_ylim(39,52)\n",
    "ax.set_aspect(1./np.cos(45*np.pi/180.))\n",
    "plt.xticks(rotation=20,fontsize=11)\n",
    "plt.yticks(fontsize=11)\n",
    "#ax.set_xlabel('Longitude')\n",
    "#ax.set_ylabel('Latitude');\n",
    "#ax.set_title('Triangular subfaults');\n",
    "if 1:\n",
    "    fname = 'CSZ_subfaults.png'\n",
    "    plt.savefig(fname, bbox_inches='tight')\n",
    "    print('Created ',fname)"
   ]
  },
  {
   "cell_type": "markdown",
   "metadata": {},
   "source": [
    "### Rupture scenario"
   ]
  },
  {
   "cell_type": "markdown",
   "metadata": {},
   "source": [
    "We now read in rupture scenario, using data from [https://zenodo.org/record/59943#.WgHuahNSxE4]."
   ]
  },
  {
   "cell_type": "code",
   "execution_count": null,
   "metadata": {},
   "outputs": [],
   "source": [
    "datadir = '%s/data' % fqdir"
   ]
  },
  {
   "cell_type": "code",
   "execution_count": null,
   "metadata": {},
   "outputs": [],
   "source": [
    "rnum = 1273\n",
    "rupt_name = 'cascadia.%s' % str(rnum).zfill(6)\n",
    "rupt_fname = '%s/%s/_%s.rupt' % (datadir, rupt_name, rupt_name)\n",
    "print(\"Reading earthquake data from %s\" % rupt_fname)\n",
    "rupture_parameters = np.loadtxt(rupt_fname,skiprows=1)"
   ]
  },
  {
   "cell_type": "markdown",
   "metadata": {},
   "source": [
    "This data is used to set the slip and rake on each of the subfaults loaded above.  Since this is a dynamic rupture, we also set the `rupture_time` and `rise_time` of each subfault."
   ]
  },
  {
   "cell_type": "code",
   "execution_count": null,
   "metadata": {},
   "outputs": [],
   "source": [
    "fault0 = dtopotools.Fault()\n",
    "fault0.subfaults = []\n",
    "fault0.rupture_type = 'kinematic'\n",
    "rake = 90. # assume same rake for all subfaults\n",
    "\n",
    "J = int(np.floor(cascadia.shape[0]))\n",
    "\n",
    "for j in range(J):\n",
    "    subfault0 = dtopotools.SubFault()\n",
    "    node1 = cascadia[j,4:7].tolist()\n",
    "    node2 = cascadia[j,7:10].tolist()\n",
    "    node3 = cascadia[j,10:13].tolist()\n",
    "    node_list = [node1,node2,node3]\n",
    "    \n",
    "    ss_slip = rupture_parameters[j,8]\n",
    "    ds_slip = rupture_parameters[j,9]\n",
    "    \n",
    "    rake = np.rad2deg(np.arctan2(ds_slip, ss_slip))\n",
    "    \n",
    "    subfault0.set_corners(node_list,projection_zone='10')  # '10T' changed to '10'\n",
    "    subfault0.rupture_time = rupture_parameters[j,12]\n",
    "    subfault0.rise_time = rupture_parameters[j,7]\n",
    "    subfault0.rake = rake\n",
    "\n",
    "    slip = np.sqrt(ds_slip ** 2 + ss_slip ** 2)\n",
    "    subfault0.slip = slip\n",
    "    fault0.subfaults.append(subfault0)"
   ]
  },
  {
   "cell_type": "markdown",
   "metadata": {},
   "source": [
    "### Compute seafloor deformations with GeoClaw \n",
    "\n",
    "We now run the ``create_dtopography`` routine to generate dynamic seafloor deformations at a given set of times.  This applies the Okada model to each of the subfaults and evaluates the surface displacement on the grid given by `x,y`, at each time. These are summed up over all subfaults to compute the total deformation."
   ]
  },
  {
   "cell_type": "code",
   "execution_count": null,
   "metadata": {},
   "outputs": [],
   "source": [
    "x,y = fault0.create_dtopo_xy(dx = 4/60.)\n",
    "print('Will create dtopo on arrays of shape %i by %i' % (len(x),len(y)))\n",
    "tfinal = max([subfault1.rupture_time + subfault1.rise_time for subfault1 in fault0.subfaults])\n",
    "times0 = np.linspace(0.,tfinal,100)\n",
    "dtopo0 = fault0.create_dtopography(x,y,times=times0,verbose=False);"
   ]
  },
  {
   "cell_type": "code",
   "execution_count": null,
   "metadata": {},
   "outputs": [],
   "source": [
    "x.shape,y.shape, dtopo0.dZ.shape"
   ]
  },
  {
   "cell_type": "code",
   "execution_count": null,
   "metadata": {},
   "outputs": [],
   "source": [
    "fig,(ax0,ax1,ax2, ax3) = plt.subplots(ncols=4,nrows=1,figsize=(16,6))\n",
    "fault0.plot_subfaults(axes=ax0,slip_color=True,plot_box=False);\n",
    "ax0.set_title('Slip on Fault');\n",
    "\n",
    "X = dtopo0.X; Y = dtopo0.Y; dZ_at_t = dtopo0.dZ_at_t\n",
    "dz_max = dtopo0.dZ.max()\n",
    "\n",
    "t0 = 0.25*tfinal    # time to plot deformation\n",
    "dtopotools.plot_dZ_colors(X,Y,dZ_at_t(t0),axes=ax1, \n",
    "                          cmax_dZ = dz_max, add_colorbar=False);\n",
    "ax1.set_title('Seafloor at time t=' + str(t0));\n",
    "\n",
    "t0 = 0.5*tfinal    # time to plot deformation\n",
    "dtopotools.plot_dZ_colors(X,Y,dZ_at_t(t0),axes=ax2,\n",
    "                          cmax_dZ = dz_max, add_colorbar=False);\n",
    "\n",
    "ax2.set_title('Seafloor at time t=' + str(t0));\n",
    "\n",
    "t0 = tfinal    # time to plot deformation\n",
    "dtopotools.plot_dZ_colors(X,Y,dZ_at_t(t0),axes=ax3,\n",
    "                          cmax_dZ = dz_max, add_colorbar=True);\n",
    "ax3.set_title('Seafloor at time t=' + str(t0));\n",
    "\n",
    "#fig.savefig('CSZ_triangular.png');"
   ]
  },
  {
   "cell_type": "markdown",
   "metadata": {},
   "source": [
    "### Plot the rupture time and rise time of each subfault\n",
    "\n",
    "This shows where the rupture originates and how it propagates outward. Each vertical bar shows the rupture time and duration of one subfault."
   ]
  },
  {
   "cell_type": "code",
   "execution_count": null,
   "metadata": {},
   "outputs": [],
   "source": [
    "plt.figure(figsize=(14,8))\n",
    "plt.axes()\n",
    "latitudes = [s.latitude for s in fault0.subfaults]\n",
    "rise_times = [s.rise_time for s in fault0.subfaults]\n",
    "rupture_times = [s.rupture_time for s in fault0.subfaults]\n",
    "for j,lat in enumerate(latitudes):\n",
    "    plt.plot([lat,lat],[rupture_times[j],rupture_times[j]+rise_times[j]],'b')\n",
    "plt.xlabel('latitude')\n",
    "plt.ylabel('seconds')\n",
    "plt.title('rupture time + rise time of each triangle vs. latitude')"
   ]
  },
  {
   "cell_type": "markdown",
   "metadata": {},
   "source": [
    "## Plots similar to those used in ML paper"
   ]
  },
  {
   "cell_type": "code",
   "execution_count": null,
   "metadata": {},
   "outputs": [],
   "source": [
    "cmap = mpl.cm.jet\n",
    "cmap.set_under(color='w', alpha=0)  # transparent for zero slip"
   ]
  },
  {
   "cell_type": "code",
   "execution_count": null,
   "metadata": {},
   "outputs": [],
   "source": [
    "cmap_slip = mpl.cm.jet\n",
    "\n",
    "def plot_triangular_slip(subfault,ax,cmin_slip,cmax_slip):\n",
    "    x_corners = [subfault.corners[2][0],\n",
    "                 subfault.corners[0][0],\n",
    "                 subfault.corners[1][0],\n",
    "                 subfault.corners[2][0]]\n",
    "\n",
    "    y_corners = [subfault.corners[2][1],\n",
    "                 subfault.corners[0][1],\n",
    "                 subfault.corners[1][1],\n",
    "                 subfault.corners[2][1]]\n",
    "    \n",
    "    slip = subfault.slip\n",
    "    s = min(1, max(0, (slip-cmin_slip)/(cmax_slip-cmin_slip)))\n",
    "    c = np.array(cmap_slip(s*.99))  # since 1 does not map properly with jet\n",
    "    if slip <= cmin_slip:\n",
    "        c[-1] = 0  # make transparent\n",
    "\n",
    "    ax.fill(x_corners,y_corners,color=c,edgecolor='none')"
   ]
  },
  {
   "cell_type": "code",
   "execution_count": null,
   "metadata": {},
   "outputs": [],
   "source": [
    "cmin_slip = 0.01  # smaller values will be transparent\n",
    "cmax_slip = np.array([s.slip for s in fault0.subfaults]).max()"
   ]
  },
  {
   "cell_type": "code",
   "execution_count": null,
   "metadata": {},
   "outputs": [],
   "source": [
    "fig = plt.figure(figsize=(15,10))\n",
    "ax = plt.axes()\n",
    "#plt.contourf(topo.X, topo.Y, topo.Z, [0,10000], colors=[[.6,1,.6]])\n",
    "for s in fault0.subfaults:\n",
    "    c = s.corners\n",
    "    c.append(c[0])\n",
    "    c = np.array(c)\n",
    "    ax.plot(c[:,0],c[:,1], 'k', linewidth=0.2)\n",
    "    plot_triangular_slip(s,ax,cmin_slip,cmax_slip)\n",
    "    \n",
    "plt.plot(coast_xy[:,0], coast_xy[:,1], 'g', linewidth=0.7)\n",
    "plotbox([-125,-122.1,47.88,48.75], {'color':'k','linewidth':0.7})\n",
    "\n",
    "if 0:\n",
    "    fault0.plot_subfaults(axes=ax,slip_color=True,plot_box=False,\n",
    "                      colorbar_ticksize=12, colorbar_labelsize=12);\n",
    "\n",
    "ax.set_xlim(-130,-122)\n",
    "ax.set_ylim(39,52)\n",
    "ax.set_aspect(1./np.cos(45*np.pi/180.))\n",
    "plt.xticks(rotation=20, fontsize=10)\n",
    "plt.yticks(fontsize=10)\n",
    "#ax.set_xlabel('Longitude')\n",
    "#ax.set_ylabel('Latitude');\n",
    "#ax.set_title('Triangular subfaults');\n",
    "\n",
    "if 1:\n",
    "    # add colorbar\n",
    "    cax,kw = mpl.colorbar.make_axes(ax, shrink=1)\n",
    "    norm = mpl.colors.Normalize(vmin=cmin_slip,vmax=cmax_slip)\n",
    "    cb1 = mpl.colorbar.ColorbarBase(cax, cmap=cmap_slip, norm=norm)\n",
    "    cb1.set_label(\"Slip (m)\",fontsize=11)\n",
    "    cb1.ax.tick_params(labelsize=11)\n",
    "\n",
    "if 1:\n",
    "    fname = 'cascadia_%s.png' % rnum\n",
    "    plt.savefig(fname, bbox_inches='tight')\n",
    "    print('Created ',fname)"
   ]
  },
  {
   "cell_type": "markdown",
   "metadata": {},
   "source": [
    "### plot dtopo"
   ]
  },
  {
   "cell_type": "code",
   "execution_count": null,
   "metadata": {},
   "outputs": [],
   "source": [
    "fig = plt.figure(figsize=(15,10))\n",
    "ax = plt.axes()\n",
    "#plt.contourf(topo.X, topo.Y, topo.Z, [0,10000], colors=[[.6,1,.6]])\n",
    "for s in fault0.subfaults:\n",
    "    c = s.corners\n",
    "    c.append(c[0])\n",
    "    c = np.array(c)\n",
    "    ax.plot(c[:,0],c[:,1], 'k', linewidth=0.2)\n",
    "    #plot_triangular_slip(s,ax,cmin_slip,cmax_slip)\n",
    "    \n",
    "plt.plot(coast_xy[:,0], coast_xy[:,1], 'g', linewidth=0.7)\n",
    "plotbox([-125,-122.1,47.88,48.75], {'color':'k','linewidth':0.7})\n",
    "\n",
    "dtopo0.plot_dZ_colors(t=3600., axes=ax)\n",
    "\n",
    "ax.set_xlim(-130,-122)\n",
    "ax.set_ylim(39,52)\n",
    "ax.set_aspect(1./np.cos(45*np.pi/180.))\n",
    "plt.xticks(fontsize=11)\n",
    "plt.yticks(fontsize=11)\n",
    "#ax.set_xlabel('Longitude')\n",
    "#ax.set_ylabel('Latitude');\n",
    "ax.set_title('');\n",
    "\n",
    "if 1:\n",
    "    fname = 'cascadia_%s_dtopo.png' % rnum\n",
    "    plt.savefig(fname, bbox_inches='tight')\n",
    "    print('Created ',fname)"
   ]
  },
  {
   "cell_type": "markdown",
   "metadata": {},
   "source": [
    "### Create dtopo file for running GeoClaw"
   ]
  },
  {
   "cell_type": "code",
   "execution_count": null,
   "metadata": {},
   "outputs": [],
   "source": [
    "#ruptno = rupt_fname.split('.')[1]\n",
    "fname = '%s.dtt3' % rupt_name\n",
    "dtopo0.write(fname, dtopo_type=3)\n",
    "print('Created %s, with dynamic rupture of a Mw %.2f event' % (fname, fault0.Mw()))"
   ]
  },
  {
   "cell_type": "markdown",
   "metadata": {},
   "source": [
    "## Compare to T-shirts and/or new ground motions"
   ]
  },
  {
   "cell_type": "markdown",
   "metadata": {},
   "source": [
    "Read in T-shirt dtopos (original with no extension north)"
   ]
  },
  {
   "cell_type": "code",
   "execution_count": null,
   "metadata": {},
   "outputs": [],
   "source": [
    "dtopoL = {}\n",
    "for Tn in [1,2,3]:\n",
    "    fname_dtopo = '/Users/rjl/git/CopesHubTsunamis/dtopo/CSZ_Tshirts/CSZ_L%i_noext.tt3' % Tn\n",
    "    dtopoL[Tn] = dtopotools.DTopography(fname_dtopo, 3)"
   ]
  },
  {
   "cell_type": "code",
   "execution_count": null,
   "metadata": {},
   "outputs": [],
   "source": [
    "if 0:\n",
    "    linecolors = ['k','m','c']\n",
    "    for y0 in np.arange(48,41,-1):\n",
    "        j = np.where(dtopo0.y<y0)[0].max()\n",
    "        plt.figure(figsize=(7,4))\n",
    "        plt.plot(dtopo0.x,dtopo0.dZ[-1,j,:],'b',label=rupt_name)\n",
    "        for Tn in [1,2,3]:\n",
    "            j = np.where(dtopoL[Tn].y<y0)[0].max()\n",
    "            plt.plot(dtopoL[Tn].x,dtopoL[Tn].dZ[-1,j,:],color=linecolors[Tn-1],\n",
    "                 linestyle='--', label='L%i' % Tn)\n",
    "        plt.xlim(-127,-122)\n",
    "        plt.ylim(-5,15)\n",
    "        plt.grid(True)\n",
    "        plt.legend()\n",
    "        plt.title('Transect of final dz at y = %.1f' % y0);"
   ]
  },
  {
   "cell_type": "markdown",
   "metadata": {},
   "source": [
    "### New ground motions"
   ]
  },
  {
   "cell_type": "code",
   "execution_count": null,
   "metadata": {},
   "outputs": [],
   "source": [
    "#dtopodir = '/Users/rjl/git/CopesHubTsunamis/dtopo/CSZ_groundmotions/dtopofiles'\n",
    "dtopodir = '../CSZ_groundmotions/dtopofiles'\n",
    "dtopo_groundmotion = {}\n",
    "events = []\n",
    "\n",
    "rupture = 'buried-locking-str10'\n",
    "depth = 'deep'\n",
    "event = '%s-%s' % (rupture,depth)\n",
    "fname_dtopo = '%s/%s_instant.dtt3' % (dtopodir,event)\n",
    "print('Reading ',fname_dtopo)\n",
    "dtopo_groundmotion[event] = dtopotools.DTopography(fname_dtopo, 3)\n",
    "events.append(event)"
   ]
  },
  {
   "cell_type": "code",
   "execution_count": null,
   "metadata": {},
   "outputs": [],
   "source": [
    "linecolors = ['r','k','m']\n",
    "y0s = list(np.arange(48,41,-1))\n",
    "fig,axs = plt.subplots(len(y0s),1,figsize=(10,20),sharex=True)\n",
    "for k,y0 in enumerate(y0s):\n",
    "    ax = axs[k]\n",
    "    j = np.where(dtopo0.y<y0)[0].max()\n",
    "    ax.plot(dtopo0.x,dtopo0.dZ[-1,j,:],'b',\n",
    "            label='%s (Mw=%.2f)' % (rupt_name, fault0.Mw()))\n",
    "    for event in events:\n",
    "        j = np.where(dtopo_groundmotion[event].y<y0)[0].max()\n",
    "        ax.plot(dtopo_groundmotion[event].x, dtopo_groundmotion[event].dZ[-1,j,:],\n",
    "                 color=linecolors[0], linestyle='-', label=event) \n",
    "    for Tn in [1,2]:\n",
    "        j = np.where(dtopoL[Tn].y<y0)[0].max()\n",
    "        ax.plot(dtopoL[Tn].x, dtopoL[Tn].dZ[-1,j,:],color=linecolors[Tn],\n",
    "             linestyle='--', label='L%i' % Tn)\n",
    "  \n",
    "    ax.set_xlim(-127,-122)\n",
    "    ax.set_ylim(-5,15)\n",
    "    ax.grid(True)\n",
    "    ax.legend(loc='upper right', fontsize=9, framealpha=1)\n",
    "    ax.set_title('Transect of final dz at y = %.1f' % y0);\n",
    "plt.tight_layout()\n",
    "fname = '%s_vs_%s.png' % (rupt_name.replace('.',''), event)\n",
    "plt.savefig(fname, bbox_inches='tight')\n",
    "print('Created ',fname)"
   ]
  },
  {
   "cell_type": "code",
   "execution_count": null,
   "metadata": {},
   "outputs": [],
   "source": [
    "if 0:\n",
    "    # loop over several events...\n",
    "    events = []\n",
    "    depths = ['deep','middle','shallow']\n",
    "    rupture = 'buried-locking-str10'\n",
    "    for depth in depths:\n",
    "        events.append('%s-%s_instant' % (rupture,depth))\n",
    "\n",
    "        fname_dtopo = 'dtopofiles/' + event + '.dtt3'\n",
    "        print('Reading ',fname_dtopo)\n",
    "        dtopo = dtopotools.DTopography(fname_dtopo, 3)"
   ]
  }
 ],
 "metadata": {
  "kernelspec": {
   "display_name": "Python 3 (ipykernel)",
   "language": "python",
   "name": "python3"
  },
  "language_info": {
   "codemirror_mode": {
    "name": "ipython",
    "version": 3
   },
   "file_extension": ".py",
   "mimetype": "text/x-python",
   "name": "python",
   "nbconvert_exporter": "python",
   "pygments_lexer": "ipython3",
   "version": "3.10.13"
  }
 },
 "nbformat": 4,
 "nbformat_minor": 4
}
