{
 "cells": [
  {
   "cell_type": "markdown",
   "id": "c7e1e845-03cc-49eb-abaa-56ee385781ad",
   "metadata": {},
   "source": [
    "# OkadaTest\n",
    "\n",
    "Read in a fault model from the coarsened triangulation provided by Jey and apply the Okada model from GeoClaw to obtain the static seafloor deformation at the final time.\n",
    "\n",
    "(Could be adapted to compute time-dependendent kinetic rupture based on applying Okada at each specified time to the subfaults that have ruptured up to that time, but that would require `rupture time` and `rise_time` for each subfault, which are not included currently in Jey's coarsened model.)\n"
   ]
  },
  {
   "cell_type": "code",
   "execution_count": null,
   "id": "e33bf3e7-777a-4336-9dc9-d68c8308c1e9",
   "metadata": {},
   "outputs": [],
   "source": [
    "%matplotlib inline"
   ]
  },
  {
   "cell_type": "code",
   "execution_count": null,
   "id": "ac3074af-8a70-410b-abbf-3ec49afcc429",
   "metadata": {},
   "outputs": [],
   "source": [
    "from pylab import *\n",
    "from clawpack.geoclaw import dtopotools\n",
    "import matplotlib.pyplot as plt\n",
    "from mpl_toolkits.mplot3d import Axes3D\n",
    "import numpy as np\n",
    "from copy import copy\n",
    "import os,sys"
   ]
  },
  {
   "cell_type": "markdown",
   "id": "8ca6ffb6-894b-4641-9114-9eeb6687ca77",
   "metadata": {},
   "source": [
    "## Read in the fault geometry:\n",
    "\n",
    "And specify a `dtopotools.Fault` object with this geometry."
   ]
  },
  {
   "cell_type": "code",
   "execution_count": null,
   "id": "89cf5f37-1d9b-4b89-a77e-3f28a7068e3a",
   "metadata": {},
   "outputs": [],
   "source": [
    "datadir = '/Users/rjl/D/JeysCode/Audreys_source_models_interpolation_09182024/'\n",
    "triangles = loadtxt(datadir+'David_cas_fine_mesh.tri')  # list of triangles, 3 vertices\n",
    "vertices = loadtxt(datadir+'David_cas_fine_mesh.ned')  # list of vertices, lon-lat of each\n",
    "\n",
    "vertices[:,1] = vertices[:,1] - 360.  # shift to longitude W\n",
    "vertices[:,3] = -1000*vertices[:,3]   # convert depth to positive depth in meters"
   ]
  },
  {
   "cell_type": "code",
   "execution_count": null,
   "id": "2bcd783d-5d6e-497d-8798-5ee4ac4a3aeb",
   "metadata": {},
   "outputs": [],
   "source": [
    "fault0 = dtopotools.Fault(coordinate_specification='triangular')\n",
    "fault0.subfaults = []\n",
    "\n",
    "nsubfaults = triangles.shape[0]\n",
    "\n",
    "for j in range(nsubfaults):\n",
    "    subfault0 = dtopotools.SubFault()\n",
    "    jv = int(triangles[j,1]) - 1\n",
    "    node1 = vertices[jv,1:4]\n",
    "    jv = int(triangles[j,2]) - 1\n",
    "    node2 = vertices[jv,1:4]\n",
    "    jv = int(triangles[j,3]) - 1\n",
    "    node3 = vertices[jv,1:4]  \n",
    "    node_list = [node1, node2, node3]\n",
    "    subfault0.set_corners(node_list,projection_zone='10')\n",
    "    fault0.subfaults.append(subfault0) \n",
    "\n",
    "print('Set up fault0 model with %i subfaults, without yet specifying slip for particular event' \\\n",
    "            % nsubfaults)"
   ]
  },
  {
   "cell_type": "markdown",
   "id": "cf953367-30e1-4ed9-99ce-d952c82e5e8a",
   "metadata": {},
   "source": [
    "## Check that orientation of triangles are all correct:"
   ]
  },
  {
   "cell_type": "code",
   "execution_count": null,
   "id": "d3e99085-863e-4fb7-8427-6b29d22fe77f",
   "metadata": {},
   "outputs": [],
   "source": [
    "numpos = 0.\n",
    "for s in fault0.subfaults:\n",
    "    c = array(s.corners)[:3,:2]\n",
    "    A = vstack([c[:,0], c[:,1], array([1,1,1])]).T\n",
    "    detA = np.linalg.det(A)\n",
    "    if detA > 0:\n",
    "        numpos += 1\n",
    "if numpos > 0:\n",
    "    print('*** Warning, %i of the %i subfaults have counterclockwise orientation' \\\n",
    "            % (numpos, nsubfaults))\n",
    "else:\n",
    "    print('All subfault triangles have clockwise orientation')"
   ]
  },
  {
   "cell_type": "markdown",
   "id": "7ad1e985-db4b-4c4b-8d14-7fe09ffa9521",
   "metadata": {},
   "source": [
    "## Plot triangulation:"
   ]
  },
  {
   "cell_type": "code",
   "execution_count": null,
   "id": "f292af97-b4a8-450a-b71e-189ec616ab46",
   "metadata": {},
   "outputs": [],
   "source": [
    "fig = plt.figure(figsize=(15,10))\n",
    "#ax = fig.add_subplot(121, projection='3d')\n",
    "ax = fig.add_axes([.05,.05,.9,.9], projection='3d')\n",
    "for s in fault0.subfaults:\n",
    "    c = s.corners\n",
    "    c.append(c[0])\n",
    "    c = np.array(c)\n",
    "    ax.plot(c[:,0],c[:,1],-c[:,2]/1000.,color='b')\n",
    "ax.view_init(10,60)\n",
    "ax.set_xlabel('Longitude')\n",
    "ax.set_ylabel('Latitude')\n",
    "ax.set_zlabel('Depth (km)')\n",
    "ax.set_title('Triangular subfaults')\n",
    "\n",
    "#ax = fig.add_subplot(122)\n",
    "#ax = fig.add_axes([.75,.05,.2,.9])\n",
    "fig = figure(figsize=(10,15))\n",
    "ax = axes()\n",
    "for s in fault0.subfaults:\n",
    "    c = s.corners\n",
    "    c.append(c[0])\n",
    "    c = np.array(c)\n",
    "    ax.plot(c[:,0],c[:,1], 'b')\n",
    "ax.set_aspect(1./np.cos(45*np.pi/180.))\n",
    "ax.set_xlabel('Longitude')\n",
    "ax.set_ylabel('Latitude')\n",
    "ax.set_title('Plan view');"
   ]
  },
  {
   "cell_type": "markdown",
   "id": "de5bbe0b-3ac9-4460-9cab-799594030b51",
   "metadata": {},
   "source": [
    "## Functions for setting up an event and applying Okada:"
   ]
  },
  {
   "cell_type": "code",
   "execution_count": null,
   "id": "5ebf117d-f81e-4eff-a3ba-d75be251dba8",
   "metadata": {},
   "outputs": [],
   "source": [
    "def set_slip(fault0, event):\n",
    "    import copy\n",
    "    fault = copy.copy(fault0)\n",
    "    \n",
    "    event_dir = datadir + 'output_files_orig'\n",
    "    \n",
    "    if 0:\n",
    "        # don't need slip in dip and strike directions separately, only magnitude read below\n",
    "        fname = 'dip_slip_resampled_source_saved_%s.out' % event\n",
    "        dip_slip = loadtxt(os.path.join(event_dir, fname))\n",
    "        fname = 'strike_slip_resampled_source_saved_%s.out' % event\n",
    "        strike_slip = loadtxt(os.path.join(event_dir, fname))\n",
    "        \n",
    "    fname = 'mag_slip_resampled_source_saved_%s.out' % event\n",
    "    mag_slip = loadtxt(os.path.join(event_dir, fname))[:,2]\n",
    "    \n",
    "    fname = 'rake_resampled_source_saved_%s.out' % event\n",
    "    rake = loadtxt(os.path.join(event_dir, fname))[:,2]\n",
    "    \n",
    "    for j in range(nsubfaults):\n",
    "        subfault = fault.subfaults[j]\n",
    "        subfault.rake = rake[j]\n",
    "        subfault.slip = mag_slip[j]\n",
    "        \n",
    "    print('Created fault with Mw = %.2f' % fault.Mw())\n",
    "    \n",
    "    fault.event = event  # save name of event in fault object\n",
    "    return fault\n",
    "\n",
    "\n",
    "def make_dtopo(fault, times=[0.]):\n",
    "    if len(times) <= 2:\n",
    "        fault.rupture_type = 'static'\n",
    "    else:\n",
    "        fault.rupture_type = 'kinematic'\n",
    "\n",
    "    dx = dy = 30/3600.  # spatial resolution for dtopo file\n",
    "    #x,y = fault.create_dtopo_xy(dx=dx)  # choose automatically\n",
    "    # use same x,y as in dtopo files made from ground motions:\n",
    "    x = arange(-128.5, -122.4999, dx)\n",
    "    y = arange(40,50.0001,dy)\n",
    "    \n",
    "    print('Will create dtopo on arrays of shape %i by %i ...' % (len(x),len(y)))\n",
    "    dtopo = fault.create_dtopography(x,y,times=times,verbose=100);\n",
    "    \n",
    "    fname = 'dtopo_%s.dtt3' % fault.event\n",
    "    dtopo.write(fname, dtopo_type=3)\n",
    "    print('Created %s with %s displacement at %i times' \\\n",
    "            % (fname, fault.rupture_type, len(times)))\n",
    "    return dtopo\n",
    "\n",
    "def plot_slip_final_dtopo(fault, dtopo):\n",
    "\n",
    "    \"\"\"\n",
    "    Plot dtopo (at final time for kinematic rupture).\n",
    "    \"\"\"\n",
    "    \n",
    "    fig,(ax0,ax1) = plt.subplots(ncols=2,nrows=1,figsize=(12,6))\n",
    "    fault.plot_subfaults(axes=ax0,slip_color=True,plot_box=False);\n",
    "    ax0.set_title('Slip on Fault');\n",
    "\n",
    "    X = dtopo.X; Y = dtopo.Y; dZ_at_t = dtopo.dZ_at_t\n",
    "    dz_max = dtopo.dZ.max()\n",
    "    tfinal = dtopo.times[-1] + 1  # 1 second after final dZ\n",
    "    dtopotools.plot_dZ_colors(X,Y,dZ_at_t(tfinal),axes=ax1, \n",
    "                              cmax_dZ = dz_max, \n",
    "                              dZ_interval=200, add_colorbar=True);\n",
    "    ax1.set_title('Seafloor deformation (static Okada)');\n",
    "    "
   ]
  },
  {
   "cell_type": "markdown",
   "id": "86d4d457-0d2e-4c6a-98e1-05f53db4eaf2",
   "metadata": {},
   "source": [
    "## Test on one event:"
   ]
  },
  {
   "cell_type": "code",
   "execution_count": null,
   "id": "0485bdf7-946c-4308-a5f4-a2a9e7c1c4ee",
   "metadata": {},
   "outputs": [],
   "source": [
    "event = 'locking_mur13_deep'\n",
    "fault = set_slip(fault0, event)\n",
    "print('There are %i subfaults in this model' % len(fault.subfaults))"
   ]
  },
  {
   "cell_type": "markdown",
   "id": "6b36148b-3d15-4d88-b389-b8f7abcd4c3e",
   "metadata": {},
   "source": [
    "### Check how many have small slip:"
   ]
  },
  {
   "cell_type": "code",
   "execution_count": null,
   "id": "192fda45-ca91-40a6-9906-7b933ff1a70a",
   "metadata": {},
   "outputs": [],
   "source": [
    "slips = array([abs(s.slip) for s in fault.subfaults])\n",
    "for sliptol in [1e-3, 1e-2, 1e-1]:\n",
    "    ii = where(slips > sliptol)[0]\n",
    "    print('%i subfaults have abs(slip) > %.3f m' % (len(ii),sliptol))"
   ]
  },
  {
   "cell_type": "markdown",
   "id": "6bf06ead-d916-44d8-9052-d3c0eb6828d6",
   "metadata": {},
   "source": [
    "## Try first on small subset, runs more quickly..."
   ]
  },
  {
   "cell_type": "code",
   "execution_count": null,
   "id": "9ebe27e1-3e31-4b41-b336-70a87ffa75e8",
   "metadata": {},
   "outputs": [],
   "source": [
    "testfault = dtopotools.Fault(coordinate_specification='triangular')\n",
    "testfault.subfaults = []\n",
    "for s in fault.subfaults:\n",
    "    if 45.4<s.latitude<45.8 and -126<s.longitude<-125:\n",
    "        testfault.subfaults.append(s)\n",
    "print('Created testfault with %i subfaults' % len(testfault.subfaults))\n",
    "testfault.event = 'testfault'\n",
    "testdtopo = make_dtopo(testfault, times=[0.])\n"
   ]
  },
  {
   "cell_type": "code",
   "execution_count": null,
   "id": "16670aab-61fe-47c9-a023-0cba8e194fd1",
   "metadata": {},
   "outputs": [],
   "source": [
    "fig,(ax0,ax1) = plt.subplots(ncols=2,nrows=1,figsize=(12,6))\n",
    "xlim = (-125.7, -124.9)\n",
    "ylim = (45.3, 45.9)\n",
    "testfault.plot_subfaults(axes=ax0,slip_color=True,plot_box=False);\n",
    "ax0.set_title('Slip on Fault');\n",
    "ax0.set_xlim(xlim)\n",
    "ax0.set_ylim(ylim)\n",
    "\n",
    "#X = dtopo.X; Y = dtopo.Y; dZ_at_t = dtopo.dZ_at_t\n",
    "dz_max = testdtopo.dZ.max()\n",
    "testdtopo.plot_dZ_colors(t=2, axes=ax1, \n",
    "                          cmax_dZ = dz_max, \n",
    "                          dZ_interval=2);\n",
    "\n",
    "ax1.set_xlim(xlim)\n",
    "ax1.set_ylim(ylim)\n",
    "ax1.set_title('Seafloor deformation (static Okada)');"
   ]
  },
  {
   "cell_type": "markdown",
   "id": "d7c08ac7-b4b8-4d44-9201-d82b79b062f5",
   "metadata": {},
   "source": [
    "## Run Okada on full rupture:"
   ]
  },
  {
   "cell_type": "code",
   "execution_count": null,
   "id": "59296976-2373-46d3-bf0e-ed5cb85a6c7e",
   "metadata": {},
   "outputs": [],
   "source": [
    "dtopo = make_dtopo(fault, times=[0.])"
   ]
  },
  {
   "cell_type": "code",
   "execution_count": null,
   "id": "b71e2942-03f1-4bc9-b885-e8a58642cd7a",
   "metadata": {},
   "outputs": [],
   "source": [
    "plot_slip_final_dtopo(fault, dtopo)"
   ]
  },
  {
   "cell_type": "markdown",
   "id": "eb582c90-52c2-4d24-8a4b-1859b9326c8a",
   "metadata": {},
   "source": [
    "## Compare to final displacement from seismic simulation:"
   ]
  },
  {
   "cell_type": "code",
   "execution_count": null,
   "id": "17e5ec73-ed45-4a2a-a688-46bed89505b8",
   "metadata": {},
   "outputs": [],
   "source": [
    "dtopodir = '../dtopofiles/'\n",
    "dtopo_instant_fname = dtopodir + 'buried-%s_instant.dtt3' % event.replace('_','-')\n",
    "print('Comparing to %s' % dtopo_instant_fname)"
   ]
  },
  {
   "cell_type": "code",
   "execution_count": null,
   "id": "4952bb70-f21e-4522-9519-0dea38b21147",
   "metadata": {},
   "outputs": [],
   "source": [
    "dtopo_instant = dtopotools.DTopography(dtopo_instant_fname, dtopo_type=3)"
   ]
  },
  {
   "cell_type": "code",
   "execution_count": null,
   "id": "2dec8ba4-f9e6-483e-92f7-b95cf7d29b68",
   "metadata": {},
   "outputs": [],
   "source": [
    "fig,(ax0,ax1) = plt.subplots(ncols=2,nrows=1,figsize=(12,6))\n",
    "\n",
    "X = dtopo_instant.X; Y = dtopo_instant.Y; dZ_at_t = dtopo_instant.dZ_at_t\n",
    "dz_max = dtopo_instant.dZ.max()\n",
    "tfinal = dtopo_instant.times[-1] + 1  # 1 second after final dZ\n",
    "dtopotools.plot_dZ_colors(X,Y,dZ_at_t(tfinal),axes=ax0, \n",
    "                          cmax_dZ = dz_max, \n",
    "                          dZ_interval=200, add_colorbar=True);\n",
    "ax0.set_title('Seafloor deformation (static seismic)');\n",
    "ax0.set_ylim(40,50)\n",
    "ax0.set_xlim(-128.5,-122)\n",
    "\n",
    "X = dtopo.X; Y = dtopo.Y; dZ_at_t = dtopo.dZ_at_t\n",
    "#dz_max = dtopo.dZ.max() # use same color scale as in other figure\n",
    "tfinal = dtopo.times[-1] + 1  # 1 second after final dZ\n",
    "dtopotools.plot_dZ_colors(X,Y,dZ_at_t(tfinal),axes=ax1, \n",
    "                          cmax_dZ = dz_max, \n",
    "                          dZ_interval=200, add_colorbar=True);\n",
    "ax1.set_title('Seafloor deformation (static Okada)');\n",
    "ax1.set_ylim(40,50)\n",
    "ax1.set_xlim(-128.5,-122)"
   ]
  },
  {
   "cell_type": "code",
   "execution_count": null,
   "id": "d9ef7704-8835-4784-8519-b131f3a61751",
   "metadata": {},
   "outputs": [],
   "source": []
  }
 ],
 "metadata": {
  "kernelspec": {
   "display_name": "Python 3 (ipykernel)",
   "language": "python",
   "name": "python3"
  },
  "language_info": {
   "codemirror_mode": {
    "name": "ipython",
    "version": 3
   },
   "file_extension": ".py",
   "mimetype": "text/x-python",
   "name": "python",
   "nbconvert_exporter": "python",
   "pygments_lexer": "ipython3",
   "version": "3.10.13"
  }
 },
 "nbformat": 4,
 "nbformat_minor": 5
}
