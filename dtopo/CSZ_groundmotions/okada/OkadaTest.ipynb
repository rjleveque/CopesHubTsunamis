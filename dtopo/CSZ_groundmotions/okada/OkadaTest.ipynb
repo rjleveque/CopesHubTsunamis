{
 "cells": [
  {
   "cell_type": "markdown",
   "id": "c7e1e845-03cc-49eb-abaa-56ee385781ad",
   "metadata": {},
   "source": [
    "# OkadaTest\n",
    "\n",
    "Read in a fault model from the coarsened triangulation provided by Jey and apply the Okada model from GeoClaw to obtain the static seafloor deformation at the final time.\n",
    "\n",
    "(Could be adapted to compute time-dependendent kinetic rupture based on applying Okada at each specified time to the subfaults that have ruptured up to that time.)\n",
    "\n",
    "Initial tests show strange results, so this notebook currently contains a test only of the static case and for a small subset of the 7705 subfaults in Jey's model.\n",
    "\n"
   ]
  },
  {
   "cell_type": "code",
   "execution_count": null,
   "id": "e33bf3e7-777a-4336-9dc9-d68c8308c1e9",
   "metadata": {},
   "outputs": [],
   "source": [
    "%matplotlib inline"
   ]
  },
  {
   "cell_type": "code",
   "execution_count": null,
   "id": "ac3074af-8a70-410b-abbf-3ec49afcc429",
   "metadata": {},
   "outputs": [],
   "source": [
    "from pylab import *\n",
    "from clawpack.geoclaw import dtopotools\n",
    "import matplotlib.pyplot as plt\n",
    "from mpl_toolkits.mplot3d import Axes3D\n",
    "import numpy as np\n",
    "from copy import copy\n",
    "import os,sys"
   ]
  },
  {
   "cell_type": "markdown",
   "id": "8ca6ffb6-894b-4641-9114-9eeb6687ca77",
   "metadata": {},
   "source": [
    "## Read in the fault geometry:\n",
    "\n",
    "And specify a `dtopotools.Fault` object with this geometry."
   ]
  },
  {
   "cell_type": "code",
   "execution_count": null,
   "id": "89cf5f37-1d9b-4b89-a77e-3f28a7068e3a",
   "metadata": {},
   "outputs": [],
   "source": [
    "datadir = '/Users/rjl/D/JeysCode/Audreys_source_models_interpolation_09182024/'\n",
    "triangles = loadtxt(datadir+'David_cas_fine_mesh.tri')  # list of triangles, 3 vertices\n",
    "vertices = loadtxt(datadir+'David_cas_fine_mesh.ned')  # list of vertices, lon-lat of each\n",
    "\n",
    "vertices[:,1] = vertices[:,1] - 360.  # shift to longitude W\n",
    "vertices[:,3] = -1000*vertices[:,3]   # convert depth to positive depth in meters"
   ]
  },
  {
   "cell_type": "code",
   "execution_count": null,
   "id": "2bcd783d-5d6e-497d-8798-5ee4ac4a3aeb",
   "metadata": {},
   "outputs": [],
   "source": [
    "fault0 = dtopotools.Fault(coordinate_specification='triangular')\n",
    "fault0.subfaults = []\n",
    "\n",
    "nsubfaults = triangles.shape[0]\n",
    "\n",
    "for j in range(nsubfaults):\n",
    "    subfault0 = dtopotools.SubFault()\n",
    "    jv = int(triangles[j,1]) - 1\n",
    "    node1 = vertices[jv,1:4]\n",
    "    jv = int(triangles[j,2]) - 1\n",
    "    node2 = vertices[jv,1:4]\n",
    "    jv = int(triangles[j,3]) - 1\n",
    "    node3 = vertices[jv,1:4]  \n",
    "    node_list = [node1, node2, node3]\n",
    "    subfault0.set_corners(node_list,projection_zone='10')\n",
    "    fault0.subfaults.append(subfault0) \n",
    "\n",
    "print('Set up fault0 model with %i subfaults, without yet specifying slip for particular event' \\\n",
    "            % nsubfaults)"
   ]
  },
  {
   "cell_type": "markdown",
   "id": "cf953367-30e1-4ed9-99ce-d952c82e5e8a",
   "metadata": {},
   "source": [
    "## Check that orientation of triangles are all correct:"
   ]
  },
  {
   "cell_type": "code",
   "execution_count": null,
   "id": "d3e99085-863e-4fb7-8427-6b29d22fe77f",
   "metadata": {},
   "outputs": [],
   "source": [
    "numpos = 0.\n",
    "for s in fault0.subfaults:\n",
    "    c = array(s.corners)[:3,:2]\n",
    "    A = vstack([c[:,0], c[:,1], array([1,1,1])]).T\n",
    "    detA = np.linalg.det(A)\n",
    "    if detA > 0:\n",
    "        numpos += 1\n",
    "if numpos > 0:\n",
    "    print('*** Warning, %i of the %i subfaults have counterclockwise orientation' \\\n",
    "            % (numpos, nsubfaults))\n",
    "else:\n",
    "    print('All subfault triangles have clockwise orientation')"
   ]
  },
  {
   "cell_type": "markdown",
   "id": "7ad1e985-db4b-4c4b-8d14-7fe09ffa9521",
   "metadata": {},
   "source": [
    "## Plot triangulation:"
   ]
  },
  {
   "cell_type": "code",
   "execution_count": null,
   "id": "f292af97-b4a8-450a-b71e-189ec616ab46",
   "metadata": {},
   "outputs": [],
   "source": [
    "fig = plt.figure(figsize=(15,10))\n",
    "#ax = fig.add_subplot(121, projection='3d')\n",
    "ax = fig.add_axes([.05,.05,.9,.9], projection='3d')\n",
    "for s in fault0.subfaults:\n",
    "    c = s.corners\n",
    "    c.append(c[0])\n",
    "    c = np.array(c)\n",
    "    ax.plot(c[:,0],c[:,1],-c[:,2]/1000.,color='b')\n",
    "ax.view_init(10,60)\n",
    "ax.set_xlabel('Longitude')\n",
    "ax.set_ylabel('Latitude')\n",
    "ax.set_zlabel('Depth (km)')\n",
    "ax.set_title('Triangular subfaults')\n",
    "\n",
    "#ax = fig.add_subplot(122)\n",
    "#ax = fig.add_axes([.75,.05,.2,.9])\n",
    "fig = figure(figsize=(10,15))\n",
    "ax = axes()\n",
    "for s in fault0.subfaults:\n",
    "    c = s.corners\n",
    "    c.append(c[0])\n",
    "    c = np.array(c)\n",
    "    ax.plot(c[:,0],c[:,1], 'b')\n",
    "ax.set_aspect(1./np.cos(45*np.pi/180.))\n",
    "ax.set_xlabel('Longitude')\n",
    "ax.set_ylabel('Latitude')\n",
    "ax.set_title('Plan view');"
   ]
  },
  {
   "cell_type": "markdown",
   "id": "de5bbe0b-3ac9-4460-9cab-799594030b51",
   "metadata": {},
   "source": [
    "## Functions for setting up an event and applying Okada:"
   ]
  },
  {
   "cell_type": "code",
   "execution_count": null,
   "id": "5ebf117d-f81e-4eff-a3ba-d75be251dba8",
   "metadata": {},
   "outputs": [],
   "source": [
    "def set_slip(fault0, event):\n",
    "    import copy\n",
    "    fault = copy.copy(fault0)\n",
    "    fault.rupture_type = 'static'\n",
    "    \n",
    "    event_dir = datadir + 'output_files_orig'\n",
    "    \n",
    "    if 0:\n",
    "        # don't need slip in dip and strike directions separately, only magnitude read below\n",
    "        fname = 'dip_slip_resampled_source_saved_%s.out' % event\n",
    "        dip_slip = loadtxt(os.path.join(event_dir, fname))\n",
    "        fname = 'strike_slip_resampled_source_saved_%s.out' % event\n",
    "        strike_slip = loadtxt(os.path.join(event_dir, fname))\n",
    "        \n",
    "    fname = 'mag_slip_resampled_source_saved_%s.out' % event\n",
    "    mag_slip = loadtxt(os.path.join(event_dir, fname))[:,2]\n",
    "    \n",
    "    fname = 'rake_resampled_source_saved_%s.out' % event\n",
    "    rake = loadtxt(os.path.join(event_dir, fname))[:,2]\n",
    "    \n",
    "    for j in range(nsubfaults):\n",
    "        subfault = fault.subfaults[j]\n",
    "        subfault.rake = rake[j]\n",
    "        subfault.slip = mag_slip[j]\n",
    "        \n",
    "    print('Created fault with Mw = %.2f' % fault.Mw())\n",
    "    \n",
    "    fault.event = event  # save name of event in fault object\n",
    "    return fault\n",
    "\n",
    "\n",
    "def make_dtopo(fault):\n",
    "    x,y = fault.create_dtopo_xy(dx = 4/60.)\n",
    "    print('Will create dtopo on arrays of shape %i by %i' % (len(x),len(y)))\n",
    "    dtopo = fault.create_dtopography(x,y,times=[0.],verbose=True);\n",
    "    \n",
    "    fname = 'dtopo_%s.dtt3' % fault.event\n",
    "    dtopo.write(fname, dtopo_type=3)\n",
    "    print('Created ', fname)\n",
    "    return dtopo\n",
    "\n",
    "def plot_slip_dtopo(fault, dtopo):\n",
    "    \n",
    "    fig,(ax0,ax1) = plt.subplots(ncols=2,nrows=1,figsize=(12,6))\n",
    "    fault.plot_subfaults(axes=ax0,slip_color=True,plot_box=False);\n",
    "    ax0.set_title('Slip on Fault');\n",
    "\n",
    "    X = dtopo.X; Y = dtopo.Y; dZ_at_t = dtopo.dZ_at_t\n",
    "    dz_max = dtopo.dZ.max()\n",
    "\n",
    "    dtopotools.plot_dZ_colors(X,Y,dZ_at_t(1.),axes=ax1, \n",
    "                              cmax_dZ = dz_max, \n",
    "                              dZ_interval=200, add_colorbar=True);\n",
    "    ax1.set_title('Seafloor deformation (static Okada)');\n",
    "    "
   ]
  },
  {
   "cell_type": "markdown",
   "id": "86d4d457-0d2e-4c6a-98e1-05f53db4eaf2",
   "metadata": {},
   "source": [
    "## Test on one event:"
   ]
  },
  {
   "cell_type": "code",
   "execution_count": null,
   "id": "0485bdf7-946c-4308-a5f4-a2a9e7c1c4ee",
   "metadata": {},
   "outputs": [],
   "source": [
    "event = 'locking_mur13_deep'\n",
    "fault = set_slip(fault0, event)\n",
    "print('There are %i subfaults in this model' % len(fault.subfaults))"
   ]
  },
  {
   "cell_type": "code",
   "execution_count": null,
   "id": "f5a3cc94-2822-4acf-b49c-2d0f5491ebaa",
   "metadata": {},
   "outputs": [],
   "source": [
    "fault.plot_subfaults(slip_color=True,plot_box=False);\n",
    "title('Slip on Fault for %s' % event);"
   ]
  },
  {
   "cell_type": "code",
   "execution_count": null,
   "id": "59296976-2373-46d3-bf0e-ed5cb85a6c7e",
   "metadata": {},
   "outputs": [],
   "source": [
    "dtopo = make_dtopo(fault)"
   ]
  },
  {
   "cell_type": "code",
   "execution_count": null,
   "id": "b71e2942-03f1-4bc9-b885-e8a58642cd7a",
   "metadata": {},
   "outputs": [],
   "source": [
    "plot_slip_dtopo(fault, dtopo)"
   ]
  },
  {
   "cell_type": "markdown",
   "id": "f81378fd-e8b2-44ab-8d73-ffe163ad5a81",
   "metadata": {},
   "source": [
    "### Select subset of subfaults for a test event:\n",
    "\n",
    "Applying Okada to the full fault model gives strange results that might be easier to debug using a smaller model with fewer subfaults, so select only the ones in a narrow band of latitudes:"
   ]
  },
  {
   "cell_type": "code",
   "execution_count": null,
   "id": "202bffa5-5a7b-48ff-8f25-11688113d83b",
   "metadata": {},
   "outputs": [],
   "source": [
    "testfault = dtopotools.Fault(coordinate_specification='triangular')\n",
    "testfault.subfaults = []\n",
    "for s in fault.subfaults:\n",
    "    if 45.4<s.latitude<45.8 and -126<s.longitude<-125:\n",
    "        testfault.subfaults.append(s)\n",
    "print('Created testfault with %i subfaults' % len(testfault.subfaults))\n",
    "testfault.event = 'testfault'"
   ]
  },
  {
   "cell_type": "code",
   "execution_count": null,
   "id": "c3e64533-f6e4-4c1a-a9dc-9cf31410dc08",
   "metadata": {},
   "outputs": [],
   "source": [
    "testdtopo = make_dtopo(testfault)"
   ]
  },
  {
   "cell_type": "code",
   "execution_count": null,
   "id": "623beb82-72c8-4633-b68b-97bcfcbc01ff",
   "metadata": {},
   "outputs": [],
   "source": [
    "fig,(ax0,ax1) = plt.subplots(ncols=2,nrows=1,figsize=(12,6))\n",
    "xlim = (-125.7, -124.9)\n",
    "ylim = (45.3, 45.9)\n",
    "testfault.plot_subfaults(axes=ax0,slip_color=True,plot_box=False);\n",
    "ax0.set_title('Slip on Fault');\n",
    "ax0.set_xlim(xlim)\n",
    "ax0.set_ylim(ylim)\n",
    "\n",
    "#X = dtopo.X; Y = dtopo.Y; dZ_at_t = dtopo.dZ_at_t\n",
    "dz_max = testdtopo.dZ.max()\n",
    "testdtopo.plot_dZ_colors(t=2, axes=ax1, \n",
    "                          cmax_dZ = dz_max, \n",
    "                          dZ_interval=2);\n",
    "\n",
    "ax1.set_xlim(xlim)\n",
    "ax1.set_ylim(ylim)\n",
    "ax1.set_title('Seafloor deformation (static Okada)');"
   ]
  },
  {
   "cell_type": "code",
   "execution_count": null,
   "id": "6a3aaaf7-ae2c-4710-8f48-6dc257c50dc3",
   "metadata": {},
   "outputs": [],
   "source": [
    "s0 = testfault.subfaults[0]"
   ]
  },
  {
   "cell_type": "code",
   "execution_count": null,
   "id": "1598d884-7c72-4e8a-bbf0-b96c6483edda",
   "metadata": {},
   "outputs": [],
   "source": [
    "s0.corners"
   ]
  },
  {
   "cell_type": "code",
   "execution_count": null,
   "id": "720cab61-8884-48cf-8602-c244e5a4ebac",
   "metadata": {},
   "outputs": [],
   "source": [
    "c = array(s0.corners)[:3,:2]\n",
    "c"
   ]
  },
  {
   "cell_type": "code",
   "execution_count": null,
   "id": "79f204f9-b4d3-49df-8238-72bf571016e5",
   "metadata": {},
   "outputs": [],
   "source": [
    "A = vstack([c[:,0], c[:,1], array([1,1,1])]).T\n",
    "A"
   ]
  },
  {
   "cell_type": "code",
   "execution_count": null,
   "id": "fcff6f26-5777-4fa8-bf27-876d14ebc89c",
   "metadata": {},
   "outputs": [],
   "source": [
    "np.linalg.det(A)"
   ]
  },
  {
   "cell_type": "code",
   "execution_count": null,
   "id": "34480c04-5a95-4e34-8197-f1e6bd38e14f",
   "metadata": {},
   "outputs": [],
   "source": [
    "for s in testfault.subfaults:\n",
    "    c = array(s.corners)[:3,:2]\n",
    "    A = vstack([c[:,0], c[:,1], array([1,1,1])]).T\n",
    "    print(np.linalg.det(A))"
   ]
  },
  {
   "cell_type": "code",
   "execution_count": null,
   "id": "ba5ea0db-08cf-4c65-8ab7-e3dd9edb069e",
   "metadata": {},
   "outputs": [],
   "source": []
  }
 ],
 "metadata": {
  "kernelspec": {
   "display_name": "Python 3 (ipykernel)",
   "language": "python",
   "name": "python3"
  },
  "language_info": {
   "codemirror_mode": {
    "name": "ipython",
    "version": 3
   },
   "file_extension": ".py",
   "mimetype": "text/x-python",
   "name": "python",
   "nbconvert_exporter": "python",
   "pygments_lexer": "ipython3",
   "version": "3.10.13"
  }
 },
 "nbformat": 4,
 "nbformat_minor": 5
}
