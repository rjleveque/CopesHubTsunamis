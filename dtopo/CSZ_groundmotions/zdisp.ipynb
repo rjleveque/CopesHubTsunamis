{
 "cells": [
  {
   "cell_type": "markdown",
   "id": "3f8af8c0-46bc-402e-a38b-8d61174552e5",
   "metadata": {},
   "source": [
    "# Explore time dependent deformations"
   ]
  },
  {
   "cell_type": "code",
   "execution_count": null,
   "id": "8402f3ae-134c-446e-a196-1f915700b1b1",
   "metadata": {},
   "outputs": [],
   "source": [
    "%matplotlib inline"
   ]
  },
  {
   "cell_type": "code",
   "execution_count": null,
   "id": "6f4a9ae7-c9d4-4cf6-a7bb-7af74a76ff71",
   "metadata": {},
   "outputs": [],
   "source": [
    "from pylab import *\n",
    "import os,sys\n",
    "from clawpack.geoclaw import topotools,kmltools\n",
    "from scipy.interpolate import LinearNDInterpolator\n",
    "import obspy\n",
    "from clawpack.visclaw import animation_tools\n",
    "from IPython.display import HTML\n"
   ]
  },
  {
   "cell_type": "code",
   "execution_count": null,
   "id": "7a72f1ef-fcff-499f-9458-e283e91964bd",
   "metadata": {},
   "outputs": [],
   "source": [
    "#CHT = os.environ['CHT'] # path to CopesHubTsunamis directory\n",
    "CHT = '/Users/rjl/git/CopesHubTsunamis' # or hard-wired\n",
    "sys.path.insert(0,CHT+'/common_code')  # add to search path\n",
    "import dtopotools # local version"
   ]
  },
  {
   "cell_type": "markdown",
   "id": "f2198c1b-bc05-4046-add8-6d8a09fd7257",
   "metadata": {},
   "source": [
    "## Select an event:"
   ]
  },
  {
   "cell_type": "code",
   "execution_count": null,
   "id": "fccc0c11-8e2f-40c7-9d4b-3887610be69f",
   "metadata": {},
   "outputs": [],
   "source": [
    "#name = 'buried-locking-skl16-shallow'\n",
    "#name = 'buried-random-str10-shallow'\n",
    "name = 'buried-locking-str10-deep'\n",
    "print('Rupture name: ',name)"
   ]
  },
  {
   "cell_type": "markdown",
   "id": "33ddef6b-31cb-4a8a-a7c5-a4935849e50a",
   "metadata": {},
   "source": [
    "## Read static displacement"
   ]
  },
  {
   "cell_type": "code",
   "execution_count": null,
   "id": "440023fd-58d7-453a-bd8a-66ea922615c7",
   "metadata": {},
   "outputs": [],
   "source": [
    "datadir = 'vertical_displacements'\n",
    "fname_orig = 'vert_displacements_all_xgrid_' + name\n",
    "path_orig = os.path.join(datadir, fname_orig)\n",
    "lon,lat,zdisp = loadtxt(path_orig, skiprows=1,usecols=[1,2,3],unpack=True)"
   ]
  },
  {
   "cell_type": "code",
   "execution_count": null,
   "id": "f911df1d-d7e7-4212-88d3-1514d4033008",
   "metadata": {},
   "outputs": [],
   "source": [
    "zdisp.shape"
   ]
  },
  {
   "cell_type": "code",
   "execution_count": null,
   "id": "84fd051c-d57e-4610-a3c3-6c98a8944c4d",
   "metadata": {},
   "outputs": [],
   "source": [
    "ii = argmax(zdisp)\n",
    "print('max zdisp[%i] = %.1f m at x = %.4f, y = %.4f' \\\n",
    "      % (ii,zdisp[ii],lon[ii],lat[ii]))"
   ]
  },
  {
   "cell_type": "markdown",
   "id": "b890bd21-b0c7-4e1d-9167-4ecf16900af1",
   "metadata": {},
   "source": [
    "## Read waveforms"
   ]
  },
  {
   "cell_type": "code",
   "execution_count": null,
   "id": "3485e785-d61a-49d0-912f-2bd8f590dd32",
   "metadata": {},
   "outputs": [],
   "source": [
    "waveforms = obspy.read('time_dependent_zdisp/XGRID_%s_Z.h5' % name)"
   ]
  },
  {
   "cell_type": "code",
   "execution_count": null,
   "id": "1df436f6-222a-4945-b707-03f9f2d43e5d",
   "metadata": {},
   "outputs": [],
   "source": [
    "len(waveforms)"
   ]
  },
  {
   "cell_type": "code",
   "execution_count": null,
   "id": "2df0c2e5-ec8d-4197-a94f-8dbd4abdf8d5",
   "metadata": {},
   "outputs": [],
   "source": [
    "waveforms = waveforms.sort(['station'])"
   ]
  },
  {
   "cell_type": "code",
   "execution_count": null,
   "id": "e282df20-7da2-4aed-a93a-f07baf57c33b",
   "metadata": {},
   "outputs": [],
   "source": [
    "tr = waveforms[ii]\n",
    "t = tr.times()\n",
    "id = tr.id\n",
    "dz = tr.data\n",
    "print('max dz from waveforms[%i] is %.1f m' % (ii,dz.max()))\n",
    "print('final dz from waveforms[%i] is %.1f m' % (ii,dz[-1]))"
   ]
  },
  {
   "cell_type": "code",
   "execution_count": null,
   "id": "73d6a389-6c6a-4af6-b4d4-b59d517b610a",
   "metadata": {},
   "outputs": [],
   "source": [
    "plot(t, dz, 'b')\n",
    "grid(True)\n",
    "title('waveforms[%i]' % ii)\n",
    "xlabel('seconds')\n",
    "ylabel('meters')"
   ]
  },
  {
   "cell_type": "markdown",
   "id": "8a211862-ef6d-4893-81c8-8f4a0069fd67",
   "metadata": {},
   "source": [
    "## Create time-dependent dtopo object:"
   ]
  },
  {
   "cell_type": "code",
   "execution_count": null,
   "id": "164e961c-e768-4c1e-9179-b6425809a502",
   "metadata": {},
   "outputs": [],
   "source": [
    "mx = 6*120 + 1  # 30 arcsec\n",
    "my = 10*120 + 1  # 30 arcsec\n",
    "x = linspace(-128.5,-122.5,mx)\n",
    "y  = linspace(40,50,my)\n",
    "X,Y = meshgrid(x,y)\n",
    "\n",
    "dtopo = dtopotools.DTopography()\n",
    "dtopo.X = X\n",
    "dtopo.Y = Y\n",
    "dtopo.times = tr.times()\n",
    "ntimes = len(dtopo.times)\n",
    "dZshape = (ntimes,X.shape[0],X.shape[1])\n",
    "dtopo.dZ = empty(dZshape)\n",
    "\n",
    "points = vstack((lon,lat)).T\n",
    "\n",
    "for k in range(ntimes):\n",
    "    # interpolate to uniform grid at each time:\n",
    "    dispk = [w.data[k] for w in waveforms]\n",
    "    dz_fcn = LinearNDInterpolator(points, dispk, fill_value=0.)\n",
    "    dtopo.dZ[k,:,:] = dz_fcn(X,Y)"
   ]
  },
  {
   "cell_type": "code",
   "execution_count": null,
   "id": "2125ad5d-3ffa-43f1-a551-a1452020d603",
   "metadata": {},
   "outputs": [],
   "source": [
    "dtopo.dZ.shape"
   ]
  },
  {
   "cell_type": "markdown",
   "id": "07b5939a-dcd1-490d-9e62-2d2c57c11a70",
   "metadata": {},
   "source": [
    "### Save dtopo file for GeoClaw:"
   ]
  },
  {
   "cell_type": "code",
   "execution_count": null,
   "id": "25aaae92-a210-478a-8455-eedb88d61896",
   "metadata": {},
   "outputs": [],
   "source": [
    "fname_dtopo = name + '.dtt3'\n",
    "dtopo.write(fname_dtopo, 3)"
   ]
  },
  {
   "cell_type": "code",
   "execution_count": null,
   "id": "0667e698-8216-4b4e-b8d5-e6737763ab8e",
   "metadata": {},
   "outputs": [],
   "source": [
    "dtopo.times"
   ]
  },
  {
   "cell_type": "markdown",
   "id": "9e9f813e-364f-439a-9369-6d9637639138",
   "metadata": {},
   "source": [
    "### Save dtopo file for instantaneous displacement"
   ]
  },
  {
   "cell_type": "code",
   "execution_count": null,
   "id": "3b4bc6dd-7d69-4e2f-b45c-47f50f2b7eb2",
   "metadata": {},
   "outputs": [],
   "source": [
    "dtopoS = dtopotools.DTopography()\n",
    "dtopoS.X = X\n",
    "dtopoS.Y = Y\n",
    "dtopoS.times = [0.]\n",
    "dZshape = (1,X.shape[0],X.shape[1])\n",
    "dtopoS.dZ = empty(dZshape)\n",
    "dtopoS.dZ[0,:,:] = dtopo.dZ[-1,:,:]\n",
    "\n",
    "fname_dtopo = name + '_instant.dtt3'\n",
    "dtopoS.write(fname_dtopo, 3)\n",
    "print('Created ',fname_dtopo)"
   ]
  },
  {
   "cell_type": "markdown",
   "id": "e31dd728-9e51-491b-9804-7f53c099ccb2",
   "metadata": {},
   "source": [
    "## Make plots and animations:"
   ]
  },
  {
   "cell_type": "code",
   "execution_count": null,
   "id": "ec7c9790-844f-4ba2-a85c-d137705a89f0",
   "metadata": {},
   "outputs": [],
   "source": [
    "coast = load('/Users/rjl/git/clawpack/geoclaw/scratch/pacific_shorelines_east_4min.npy')\n",
    "x_coast = coast[:,0] - 360.\n",
    "y_coast = coast[:,1]"
   ]
  },
  {
   "cell_type": "code",
   "execution_count": null,
   "id": "54672ca8-9759-489f-9279-6312a76f5e49",
   "metadata": {},
   "outputs": [],
   "source": [
    "dZ_max = abs(dtopo.dZ).max()\n",
    "cmax_dZ = round(dZ_max)\n",
    "print('maximum |dZ| = %.2f m, setting cmax_dZ = %.1f' % (dZ_max,cmax_dZ))"
   ]
  },
  {
   "cell_type": "code",
   "execution_count": null,
   "id": "e29952a6-f4f4-43f4-8134-460a72301822",
   "metadata": {},
   "outputs": [],
   "source": [
    "# plot at one time to test:\n",
    "fig,ax = subplots(figsize=(6,7))\n",
    "plot(x_coast,y_coast,'g')\n",
    "axis([-128.5,-122,40,50])\n",
    "t = 120\n",
    "dtopo.plot_dZ_colors(t,axes=ax,cmax_dZ=cmax_dZ,dZ_interval=100)\n",
    "title('%i seconds\\n%s' % (t,name))\n",
    "grid(True);"
   ]
  },
  {
   "cell_type": "code",
   "execution_count": null,
   "id": "e61c05ba-de6e-4eba-9dbb-553f82095c34",
   "metadata": {},
   "outputs": [],
   "source": [
    "figs = []\n",
    "for k,t in enumerate(dtopo.times):\n",
    "    fig,ax = plt.subplots(figsize=(6,7))\n",
    "    plot(x_coast,y_coast,'g')\n",
    "    axis([-128.5,-122,40,50])\n",
    "    dtopo.plot_dZ_colors(t,axes=ax,cmax_dZ=cmax_dZ,dZ_interval=100)\n",
    "    title('%i seconds\\n%s' % (t,name))\n",
    "    grid(True)\n",
    "    figs.append(fig)\n",
    "    close(fig)"
   ]
  },
  {
   "cell_type": "code",
   "execution_count": null,
   "id": "9be75408-03f4-4194-985d-6620e58d49d6",
   "metadata": {},
   "outputs": [],
   "source": [
    "anim = animation_tools.animate_figs(figs, figsize=(7,8))"
   ]
  },
  {
   "cell_type": "code",
   "execution_count": null,
   "id": "b9c0354f-556b-45fb-9937-1c383fe023de",
   "metadata": {},
   "outputs": [],
   "source": [
    "HTML(anim.to_jshtml())"
   ]
  },
  {
   "cell_type": "code",
   "execution_count": null,
   "id": "30bc8afe-f454-4c7f-9ac1-2c8cfdc3cf9e",
   "metadata": {},
   "outputs": [],
   "source": [
    "# make mp4 file:\n",
    "fname = name + '.mp4'\n",
    "animation_tools.make_mp4(anim, file_name=fname)"
   ]
  },
  {
   "cell_type": "markdown",
   "id": "d508c083-fccb-48fc-b463-4a6847bc8e1d",
   "metadata": {},
   "source": [
    "## plot transect of dz at a sequence of times:"
   ]
  },
  {
   "cell_type": "code",
   "execution_count": null,
   "id": "b6e0997f-7784-4cba-810f-e5c622d00f68",
   "metadata": {},
   "outputs": [],
   "source": [
    "y0 = 47.5\n",
    "j = where(y<y0)[0].max()\n",
    "for k in range(6,15):\n",
    "    plot(x,dtopo.dZ[k,j,:],label='%.0fs' % dtopo.times[k])\n",
    "legend(loc='upper left')\n",
    "title('Transect at y = %.1f\\n%s' % (y0,name))\n",
    "grid(True)\n",
    "fname = name + '_y%s.png' % str(y0).replace('.','-')\n",
    "savefig(fname)\n",
    "print('Created ',fname)"
   ]
  },
  {
   "cell_type": "code",
   "execution_count": null,
   "id": "75f1b8d6-5705-42f7-a703-05ede65602c6",
   "metadata": {},
   "outputs": [],
   "source": [
    "dtopo.dZ.max()"
   ]
  },
  {
   "cell_type": "code",
   "execution_count": null,
   "id": "befb787c-0286-46d9-b630-2bf2f51d6b84",
   "metadata": {},
   "outputs": [],
   "source": []
  }
 ],
 "metadata": {
  "kernelspec": {
   "display_name": "Python 3 (ipykernel)",
   "language": "python",
   "name": "python3"
  },
  "language_info": {
   "codemirror_mode": {
    "name": "ipython",
    "version": 3
   },
   "file_extension": ".py",
   "mimetype": "text/x-python",
   "name": "python",
   "nbconvert_exporter": "python",
   "pygments_lexer": "ipython3",
   "version": "3.10.13"
  }
 },
 "nbformat": 4,
 "nbformat_minor": 5
}
