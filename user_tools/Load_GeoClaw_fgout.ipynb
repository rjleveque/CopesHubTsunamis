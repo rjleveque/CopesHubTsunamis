{
 "cells": [
  {
   "cell_type": "markdown",
   "id": "0",
   "metadata": {},
   "source": [
    "# Load_GeoClaw_fgout.ipynb\n",
    "\n",
    "## Load fgout data from a netCDF file\n",
    "\n",
    "Under development for the [Cascadia CoPes Hub](https://cascadiacopeshub.org/) project, supported by NSF.\n",
    "\n",
    "Illustrating how to load a netCDF file containing GeoClaw fgout data, which consists of snapshots on a fixed output grid at a set of times.\n",
    "\n",
    "For the example here, the fgout grid covers Seaside, OR at a spatial resolution of 1/3 arcsecond (about 7 meters in longitude, 10 m in latitude) and with a temporal resolution of 15 seconds, starting 20 minutes after the earthquake specified by `event` below.\n",
    "\n",
    "This notebook illustrates how to read in the data an plot snapshots of the onshore inundation (as colormaps or along a transect).  It also shows how to extract a time series at a specific point, and compares these time series to those capture at gauges that were specified in advance of the GeoClaw run (which has better temporal resolution and is more accurate for a specific location, but extracting a time series from the fgout data is useful for looking at locations that were not specifed as gauges in advance).\n",
    "\n",
    "This is a draft provided to solicit input on the format of these files.\n",
    "\n",
    "A sample data file can be downloaded from \n",
    "[this SharePoint folder](https://uwnetid.sharepoint.com/sites/ptha/Shared%20Documents/Forms/AllItems.aspx?id=%2Fsites%2Fptha%2FShared%20Documents%2FTsunamiTestData&p=true&ga=1)."
   ]
  },
  {
   "cell_type": "code",
   "execution_count": null,
   "id": "1",
   "metadata": {},
   "outputs": [],
   "source": [
    "%matplotlib inline"
   ]
  },
  {
   "cell_type": "code",
   "execution_count": null,
   "id": "2",
   "metadata": {},
   "outputs": [],
   "source": [
    "from pylab import *\n",
    "from clawpack.geoclaw import fgout_tools\n",
    "import xarray\n",
    "from clawpack.visclaw import geoplot, colormaps\n",
    "from scipy.interpolate import RegularGridInterpolator"
   ]
  },
  {
   "cell_type": "code",
   "execution_count": null,
   "id": "3",
   "metadata": {},
   "outputs": [],
   "source": [
    "event = 'buried-random-mur13-deep'\n",
    "fgno = 3  # which fgout grid"
   ]
  },
  {
   "cell_type": "code",
   "execution_count": null,
   "id": "4",
   "metadata": {},
   "outputs": [],
   "source": [
    "fname_nc = '%s-fgout%s.nc' % (event,str(fgno).zfill(3))\n",
    "print('Will load fgout data from %s' % fname_nc)\n",
    "print('You may need to download this file first from the folder specified at the top of this notebook')"
   ]
  },
  {
   "cell_type": "code",
   "execution_count": null,
   "id": "5",
   "metadata": {},
   "outputs": [],
   "source": [
    "ncdata = xarray.open_dataset(fname_nc, decode_timedelta=False)"
   ]
  },
  {
   "cell_type": "markdown",
   "id": "6",
   "metadata": {},
   "source": [
    "### Examine the data:"
   ]
  },
  {
   "cell_type": "code",
   "execution_count": null,
   "id": "7",
   "metadata": {},
   "outputs": [],
   "source": [
    "ncdata"
   ]
  },
  {
   "cell_type": "code",
   "execution_count": null,
   "id": "8",
   "metadata": {},
   "outputs": [],
   "source": [
    "ncdata.h"
   ]
  },
  {
   "cell_type": "code",
   "execution_count": null,
   "id": "9",
   "metadata": {},
   "outputs": [],
   "source": [
    "ncdata.h.units"
   ]
  },
  {
   "cell_type": "markdown",
   "id": "10",
   "metadata": {},
   "source": [
    "### Convert variables to numpy.ndarray's:"
   ]
  },
  {
   "cell_type": "code",
   "execution_count": null,
   "id": "11",
   "metadata": {},
   "outputs": [],
   "source": [
    "t = asarray(ncdata.time)\n",
    "x = asarray(ncdata.lon)\n",
    "y = asarray(ncdata.lat)\n",
    "            \n",
    "# transpose multidimensional arrays if needed so [i,j,k] index corresponds to [x,y,t]:\n",
    "B = asarray(ncdata.B0.transpose('lon','lat'))\n",
    "#h = asarray(ncdata.h.transpose('lon','lat','time')) # call it depth instead\n",
    "eta = asarray(ncdata.eta.transpose('lon','lat','time'))\n",
    "depth = asarray(ncdata.h.transpose('lon','lat','time'))\n",
    "u = asarray(ncdata.u.transpose('lon','lat','time'))\n",
    "v = asarray(ncdata.v.transpose('lon','lat','time'))\n",
    "speed = sqrt(u**2 + v**2)\n",
    "\n",
    "X,Y = meshgrid(x,y,indexing='ij')\n",
    "tmin = t / 60. # convert to minutes\n",
    "\n",
    "ncdata.close()"
   ]
  },
  {
   "cell_type": "code",
   "execution_count": null,
   "id": "12",
   "metadata": {},
   "outputs": [],
   "source": [
    "eta.shape, B.shape"
   ]
  },
  {
   "cell_type": "markdown",
   "id": "13",
   "metadata": {},
   "source": [
    "### Create interpolation functions so we can evaluate at any (x,y,t):"
   ]
  },
  {
   "cell_type": "code",
   "execution_count": null,
   "id": "14",
   "metadata": {},
   "outputs": [],
   "source": [
    "method = 'linear'\n",
    "fill_value = nan\n",
    "bounds_error = False # set value to nan if outside domain\n",
    "\n",
    "eta_fcn = RegularGridInterpolator((x,y,t), eta,\n",
    "                                  method=method, fill_value=fill_value, bounds_error=bounds_error)\n",
    "depth_fcn = RegularGridInterpolator((x,y,t), depth,\n",
    "                                    method=method, fill_value=fill_value, bounds_error=bounds_error)\n",
    "speed_fcn = RegularGridInterpolator((x,y,t), speed,\n",
    "                                    method=method, fill_value=fill_value, bounds_error=bounds_error)\n",
    "B_fcn = RegularGridInterpolator((x,y), B,\n",
    "                                method=method, fill_value=fill_value, bounds_error=bounds_error)"
   ]
  },
  {
   "cell_type": "markdown",
   "id": "15",
   "metadata": {},
   "source": [
    "### Plot inundation at a couple times:"
   ]
  },
  {
   "cell_type": "code",
   "execution_count": null,
   "id": "16",
   "metadata": {},
   "outputs": [],
   "source": [
    "land_cmap = colormaps.make_colormap({ 0.0:[0.1,0.4,0.0],\n",
    "                                     0.25:[0.0,1.0,0.0],\n",
    "                                      0.5:[0.8,1.0,0.5],\n",
    "                                      1.0:[0.8,0.5,0.2]})\n",
    "sea_cmap = plt.get_cmap('Blues_r')\n",
    "\n",
    "cmap, norm = colormaps.add_colormaps((land_cmap, sea_cmap),\n",
    "                                     data_limits=[-1,1],\n",
    "                                     data_break=0)"
   ]
  },
  {
   "cell_type": "code",
   "execution_count": null,
   "id": "17",
   "metadata": {},
   "outputs": [],
   "source": [
    "def plot_topo():\n",
    "    fig,ax = subplots(figsize=(6,8))\n",
    "    pcolormesh(X,Y,B,cmap=cmap)\n",
    "    clim(-30,30)\n",
    "    colorbar(extend='both',shrink=0.8,label='meters')\n",
    "    ax.set_aspect(1/cos(pi*y.mean()/180))\n",
    "    ticklabel_format(useOffset=False)\n",
    "    xticks(rotation=20)\n",
    "    title('Bathymetry / topography relative to MHW')\n",
    "\n",
    "def plot_topo_contours(clines=[0.]):\n",
    "    fig,ax = subplots(figsize=(6,8))\n",
    "    contour(X,Y,B,clines,colors='g',linewidths=0.8)\n",
    "    ax.set_aspect(1/cos(pi*y.mean()/180))\n",
    "    ticklabel_format(useOffset=False)\n",
    "    xticks(rotation=20)\n",
    "    #title('Bathymetry / topography relative to MHW')"
   ]
  },
  {
   "cell_type": "code",
   "execution_count": null,
   "id": "18",
   "metadata": {},
   "outputs": [],
   "source": [
    "def extract_grid_onshore(tt, make_plots=True):\n",
    "    \"\"\"\n",
    "    extract depth and speed at time tt (minutes) at onshore points (nan offshore)\n",
    "    if make_plots:  also plot depth on contour plot of topo\n",
    "    \"\"\"\n",
    "    depth_t = depth_fcn((X,Y,tt*60))\n",
    "    depth_onshore = where(B>0, depth_t, nan)\n",
    "    speed_t = speed_fcn((X,Y,tt*60))\n",
    "    speed_onshore = where(B>0, speed_t, nan)\n",
    "    if make_plots:\n",
    "        \n",
    "        #cmap_reds = plt.get_cmap('Reds')\n",
    "        cmap = plt.get_cmap('YlOrRd')\n",
    "        #cmap.set_under([.9,1,.9])\n",
    "        cmap.set_under([.1,.7,.1])\n",
    "        cmap.set_over('m')\n",
    "        plot_topo_contours()\n",
    "        pcolormesh(X,Y,depth_onshore,cmap=cmap)\n",
    "        clim(0.05,6)\n",
    "        colorbar(extend='max',label='meters',shrink=0.8)\n",
    "        title('Onshore depth at t = %.2f minutes' % tt)\n",
    "\n",
    "    return depth_onshore, speed_onshore"
   ]
  },
  {
   "cell_type": "code",
   "execution_count": null,
   "id": "19",
   "metadata": {},
   "outputs": [],
   "source": [
    "depth_onshore, speed_onshore = extract_grid_onshore(35)"
   ]
  },
  {
   "cell_type": "code",
   "execution_count": null,
   "id": "20",
   "metadata": {},
   "outputs": [],
   "source": [
    "depth_onshore, speed_onshore = extract_grid_onshore(45)"
   ]
  },
  {
   "cell_type": "markdown",
   "id": "21",
   "metadata": {},
   "source": [
    "## Extract some transects:"
   ]
  },
  {
   "cell_type": "code",
   "execution_count": null,
   "id": "22",
   "metadata": {},
   "outputs": [],
   "source": [
    "y0 = 46.01 # transect location\n",
    "figure(figsize=(10,6))\n",
    "c = ['k','c','b']\n",
    "for kc,kt in enumerate([0,50,100]):\n",
    "    eta_y0 = eta_fcn((x,y0,t[kt]))\n",
    "    plot(x, eta_y0, color=c[kc], label='surface at t = %.2f minutes' % tmin[kt])\n",
    "B_y0 = B_fcn((x,y0))\n",
    "plot(x, B_y0, 'g', label='topo at t = %.2f minutes' % tmin[0])\n",
    "xlim(x[0],x[-1])\n",
    "ylim(-10,10)\n",
    "ticklabel_format(useOffset=False)\n",
    "grid(True)\n",
    "legend(loc='lower right', framealpha=1)\n",
    "title('Transect at y = %.5f' % y0);"
   ]
  },
  {
   "cell_type": "markdown",
   "id": "23",
   "metadata": {},
   "source": [
    "## Extract a time series at a point:\n",
    "\n",
    "We can use the interpolating functions to evaluate depth, eta, B, etc. at an arbitrary point in the region covered by the fgout data."
   ]
  },
  {
   "cell_type": "markdown",
   "id": "24",
   "metadata": {},
   "source": [
    "### At an offshore point:"
   ]
  },
  {
   "cell_type": "code",
   "execution_count": null,
   "id": "25",
   "metadata": {},
   "outputs": [],
   "source": [
    "xg = -123.9500\n",
    "yg = 46.0100\n",
    "tg = t # times from fgout\n",
    "depth_tg = depth_fcn((xg,yg,tg))\n",
    "eta_tg = eta_fcn((xg,yg,tg))\n",
    "Bg = B_fcn((xg,yg))\n",
    "figure(figsize=(10,4))\n",
    "plot(t, eta_tg, 'b', label='eta_fgout')\n",
    "plot(t, depth_tg, 'k', label='depth_fgout')\n",
    "grid(True)\n",
    "legend(loc='upper left', framealpha=1)\n",
    "title('%s -- extracted time series at \\nxg = %.5f, yg = %.5f, B = %.2f' % (event,xg,yg,Bg));"
   ]
  },
  {
   "cell_type": "markdown",
   "id": "26",
   "metadata": {},
   "source": [
    "### At an onshore point:"
   ]
  },
  {
   "cell_type": "code",
   "execution_count": null,
   "id": "27",
   "metadata": {},
   "outputs": [],
   "source": [
    "xg = -123.9300\n",
    "yg = 46.0000\n",
    "tg = t # times from fgout\n",
    "depth_tg = depth_fcn((xg,yg,tg))\n",
    "eta_tg = eta_fcn((xg,yg,tg))\n",
    "Bg = B_fcn((xg,yg))\n",
    "\n",
    "figure(figsize=(10,4))\n",
    "plot(t, eta_tg, 'b', label='eta_fgout')\n",
    "plot(t, depth_tg, 'k', label='depth_fgout')\n",
    "grid(True)\n",
    "legend(loc='upper left', framealpha=1)\n",
    "title('%s -- extracted time series at \\nxg = %.5f, yg = %.5f, B = %.2f' % (event,xg,yg,Bg));"
   ]
  },
  {
   "cell_type": "markdown",
   "id": "28",
   "metadata": {},
   "source": [
    "## Compare time series from fgout to values captured at preset gauges:"
   ]
  },
  {
   "cell_type": "markdown",
   "id": "29",
   "metadata": {},
   "source": [
    "For comparison purposes, read in all the gauge data calculated during the GeoClaw points, and\n",
    "then select a point where there was a gauge.  This uses the function that is also defined in the notebook `Load_GeoClaw_GaugeSeries.ipynb`."
   ]
  },
  {
   "cell_type": "code",
   "execution_count": null,
   "id": "30",
   "metadata": {},
   "outputs": [],
   "source": [
    "from CHTtools import read_allgauges_nc\n",
    "ncfile_gauges = 'allgauges_Seaside_18buried.nc'\n",
    "print('Will read gauge solutions from %s' % ncfile_gauges)\n",
    "print('You may need to download this file first from the folder specified at the top of this notebook')"
   ]
  },
  {
   "cell_type": "code",
   "execution_count": null,
   "id": "31",
   "metadata": {},
   "outputs": [],
   "source": [
    "gauge_x, gauge_y, gauge_t, gauge_vals = read_allgauges_nc(ncfile_gauges)"
   ]
  },
  {
   "cell_type": "code",
   "execution_count": null,
   "id": "32",
   "metadata": {},
   "outputs": [],
   "source": [
    "gaugeno = 1032\n",
    "xg = float(gauge_x.sel(gaugeno=gaugeno))\n",
    "yg = float(gauge_y.sel(gaugeno=gaugeno))\n",
    "print('Gauge %i is at xg = %.5f, yg = %.5f' % (gaugeno,xg,yg))"
   ]
  },
  {
   "cell_type": "code",
   "execution_count": null,
   "id": "33",
   "metadata": {},
   "outputs": [],
   "source": [
    "h_gauge = gauge_vals.sel(gaugeno=gaugeno, qoi='h', event=event)\n",
    "print('h_gauge has %i time series values at gauge times gauge_t' % len(h_gauge))\n",
    "B_gauge = gauge_vals.sel(gaugeno=gaugeno, qoi='eta', event=event) - h_gauge\n",
    "print('B_gauge ranges between %.2f and %.2f meters' % (B_gauge.min(), B_gauge.max()))\n",
    "print('initial B at gauge is %.2f meters, final B is %.2f meters' \\\n",
    "        % (B_gauge[0], B_gauge[-1]))"
   ]
  },
  {
   "cell_type": "markdown",
   "id": "34",
   "metadata": {},
   "source": [
    "### Extract time series from fgout data set at this location:\n",
    "\n",
    "First see if there happens to be an fgout point at exactly this location:"
   ]
  },
  {
   "cell_type": "code",
   "execution_count": null,
   "id": "35",
   "metadata": {},
   "outputs": [],
   "source": [
    "depth_fgout = squeeze(asarray(depth[x==xg, y==yg]))\n",
    "\n",
    "if len(depth_fgout) == 0:\n",
    "    print('No depth_fgout data available at xg = %.8f, yg = %.8f' % (xg,yg))\n",
    "    print('Will interpolate...')\n",
    "    depth_fgout = depth_fcn((xg, yg, t))\n",
    "    print('depth_fgout has %i time series values at fgout times t' % len(depth_fgout))"
   ]
  },
  {
   "cell_type": "code",
   "execution_count": null,
   "id": "36",
   "metadata": {},
   "outputs": [],
   "source": [
    "depth_fgout = depth_fcn((xg, yg, t))\n",
    "B_fgout = B_fcn((xg,yg))\n",
    "\n",
    "figure(figsize=(10,6))\n",
    "plot(gauge_t/60, h_gauge, 'c', linewidth=3, label='h_gauge')\n",
    "plot(t/60, depth_fgout, 'b', label='depth_fgout')\n",
    "grid(True)\n",
    "xlabel('time (minutes)')\n",
    "ylabel('meters')\n",
    "legend(loc='upper left', framealpha=1)\n",
    "title('%s time series at Gauge %i\\nxg = %.5f, yg = %.5f, Bg = %.2fm' \\\n",
    "          % (event,gaugeno,xg,yg,B_fgout));"
   ]
  },
  {
   "cell_type": "markdown",
   "id": "37",
   "metadata": {},
   "source": [
    "fgout data was captured starting only at t = 20 minutes, whereas the gauge data was captured starting at time 0.\n",
    "\n",
    "Note that the gauge data has better temperal resolution than the fgout data, and also the interpolation in space causes some differences.\n",
    "\n",
    "We can see this better if we zoom in around time time of maximum depth:"
   ]
  },
  {
   "cell_type": "code",
   "execution_count": null,
   "id": "38",
   "metadata": {},
   "outputs": [],
   "source": [
    "figure(figsize=(10,6))\n",
    "plot(gauge_t/60, h_gauge, 'c-+', linewidth=3, label='h_gauge')\n",
    "plot(t/60, depth_fgout, 'b-x', label='depth_fgout')\n",
    "xlim(40,45)\n",
    "ylim(12,20)\n",
    "grid(True)\n",
    "xlabel('time (minutes)')\n",
    "ylabel('meters')\n",
    "legend(loc='upper left', framealpha=1)\n",
    "title('%s time series at Gauge %i\\nxg = %.5f, yg = %.5f' % (event,gaugeno,xg,yg));"
   ]
  },
  {
   "cell_type": "markdown",
   "id": "39",
   "metadata": {},
   "source": [
    "### Plots of surface eta:\n",
    "\n",
    "Similar to above, but now plotting the surface elevation..."
   ]
  },
  {
   "cell_type": "code",
   "execution_count": null,
   "id": "40",
   "metadata": {},
   "outputs": [],
   "source": [
    "eta_gauge =  gauge_vals.sel(gaugeno=gaugeno, qoi='eta', event=event)\n",
    "eta_fgout = eta_fcn((xg, yg, t))\n",
    "\n",
    "figure(figsize=(10,6))\n",
    "plot(gauge_t/60, eta_gauge, 'c', linewidth=3, label='eta_gauge')\n",
    "plot(t/60, eta_fgout, 'b', label='eta_fgout')\n",
    "grid(True)\n",
    "xlabel('time (minutes)')\n",
    "ylabel('meters')\n",
    "legend(loc='upper left', framealpha=1)\n",
    "title('%s time series at Gauge %i\\nxg = %.5f, yg = %.5f' % (event,gaugeno,xg,yg))"
   ]
  },
  {
   "cell_type": "markdown",
   "id": "41",
   "metadata": {},
   "source": [
    "### For an onshore location:"
   ]
  },
  {
   "cell_type": "code",
   "execution_count": null,
   "id": "42",
   "metadata": {},
   "outputs": [],
   "source": [
    "gaugeno = 1045\n",
    "\n",
    "# from the gauges output:\n",
    "xg = float(gauge_x.sel(gaugeno=gaugeno))\n",
    "yg = float(gauge_y.sel(gaugeno=gaugeno))\n",
    "print('Gauge %i is at xg = %.5f, yg = %.5f' % (gaugeno,xg,yg))\n",
    "h_gauge = gauge_vals.sel(gaugeno=gaugeno, qoi='h', event=event)\n",
    "print('h_gauge has %i time series values at gauge times gauge_t' % len(h_gauge))\n",
    "\n",
    "# interpolating from fgout:\n",
    "depth_fgout = depth_fcn((xg, yg, t))\n",
    "print('depth_fgout has %i time series values at fgout times t' % len(depth_fgout))\n",
    "B_fgout = B_fcn((xg,yg))\n",
    "\n",
    "figure(figsize=(10,6))\n",
    "plot(gauge_t/60, h_gauge, 'c', linewidth=3, label='h_gauge')\n",
    "plot(t/60, depth_fgout, 'b', label='depth_fgout')\n",
    "grid(True)\n",
    "xlim(35,60)\n",
    "xlabel('time (minutes)')\n",
    "ylabel('meters')\n",
    "legend(loc='upper left', framealpha=1)\n",
    "title('%s time series at Gauge %i\\nxg = %.5f, yg = %.5f, Bg = %.2fm' \\\n",
    "          % (event,gaugeno,xg,yg,B_fgout));"
   ]
  },
  {
   "cell_type": "code",
   "execution_count": null,
   "id": "43",
   "metadata": {},
   "outputs": [],
   "source": []
  }
 ],
 "metadata": {
  "kernelspec": {
   "display_name": "Python 3 (ipykernel)",
   "language": "python",
   "name": "python3"
  },
  "language_info": {
   "codemirror_mode": {
    "name": "ipython",
    "version": 3
   },
   "file_extension": ".py",
   "mimetype": "text/x-python",
   "name": "python",
   "nbconvert_exporter": "python",
   "pygments_lexer": "ipython3",
   "version": "3.13.3"
  }
 },
 "nbformat": 4,
 "nbformat_minor": 5
}
