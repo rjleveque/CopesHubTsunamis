{
 "cells": [
  {
   "cell_type": "markdown",
   "id": "0",
   "metadata": {},
   "source": [
    "# Load gauge time series from netCDF file\n",
    "\n",
    "This notebook provides a function to read in a netCDF file containing gauge time series output from the GeoClaw model at a set of gauges for each event in a set of events, e.g. the 36 ground motions developed for the Cascadia CoPes Hub.\n",
    "\n",
    "This is a draft provided to solicit input on the format of these files.\n",
    "\n",
    "A sample data file can be downloaded from\n",
    "https://depts.washington.edu/ptha/CopesHubTsunamis/data/allgauges_Seaside_18buried.nc\n",
    "\n",
    "This has data for the 18 \"buried rupture\" events at a set of 62 gauges in Seaside, OR, for a 90 minute tsunami simulation.\n",
    "\n",
    "The gauge locations are shown in the map at the top of [this page](https://depts.washington.edu/ptha/CopesHubTsunamis/geoclaw_runs/sites/seaside/multirun2_hyak_2024-11-11/geoclaw_plots/), or you can download the [SeasideGauges.kml](https://depts.washington.edu/ptha/CopesHubTsunamis/geoclaw_runs/sites/seaside/multirun2_hyak_2024-11-11/geoclaw_plots/SeasideGauges.kml) and open it in Google Earth."
   ]
  },
  {
   "cell_type": "code",
   "execution_count": null,
   "id": "1",
   "metadata": {},
   "outputs": [],
   "source": [
    "%matplotlib inline"
   ]
  },
  {
   "cell_type": "code",
   "execution_count": null,
   "id": "2",
   "metadata": {},
   "outputs": [],
   "source": [
    "from pylab import *\n",
    "import xarray"
   ]
  },
  {
   "cell_type": "markdown",
   "id": "3",
   "metadata": {},
   "source": [
    "## Define a function for reading the netCDF file:\n",
    "\n",
    "This function can be put in a module and imported in any code where you want to read in the gauge data."
   ]
  },
  {
   "cell_type": "code",
   "execution_count": null,
   "id": "4",
   "metadata": {},
   "outputs": [],
   "source": [
    "def read_allgauges_nc(ncfile):\n",
    "\n",
    "    \"\"\"\n",
    "    Read all gauge data for a particular coastal site from a netCDF file\n",
    "    that contains time series at all gauges pre-selected in this region,\n",
    "    for some set of earthquake events.\n",
    "\n",
    "    Time series for some quantities of interest (qoi) have been saved,\n",
    "    typically ['h' 'u' 'v' 'eta'], where h is the water depth and\n",
    "    eta is the surface elevation relative to the vertical datum of the\n",
    "    topography file (e.g. MHW).\n",
    "\n",
    "    :Input:  \n",
    "        - ncfile : str\n",
    "            path to the netCDF file\n",
    "\n",
    "    :Output:\n",
    "        - gauge_x : xarray.DataArray\n",
    "            longitude of each gauge, indexed by gaugeno\n",
    "        - gauge_y : xarray.DataArray\n",
    "            latitude of each gauge, indexed by gaugeno\n",
    "        - gauge_t : numpy.ndarray\n",
    "            times for the time series, in seconds\n",
    "            for convenience in plotting, with values from\n",
    "            gauge_vals.coords.time\n",
    "        - gauge_vals : xarray.DataArray\n",
    "            4-dimensional array with all time series values\n",
    "            \n",
    "         \n",
    "    \"\"\"\n",
    "    \n",
    "    import xarray\n",
    "\n",
    "    with xarray.open_dataset(ncfile, decode_timedelta=False) as ncdata:\n",
    "        print(ncdata.description)\n",
    "        gaugeno = ncdata.variables['gaugeno']\n",
    "        x = ncdata.variables['x']\n",
    "        y = ncdata.variables['y']\n",
    "        time = ncdata.variables['time']\n",
    "        event = ncdata.variables['event']\n",
    "        qoi = ncdata.variables['qoi']\n",
    "        gauge_vals = ncdata.variables['gauge_vals']\n",
    "\n",
    "        # create xarrays to pass back:\n",
    "        dims = ('time','gaugeno','qoi','event')\n",
    "        coords = (time, gaugeno, qoi, event)\n",
    "        gauge_vals = xarray.DataArray(gauge_vals, coords, dims)\n",
    "\n",
    "        gauge_x = xarray.DataArray(x, (gaugeno,), ('gaugeno',))\n",
    "        gauge_y = xarray.DataArray(y, (gaugeno,), ('gaugeno',))\n",
    "        gauge_t = time.data  # simple numpy.ndarray for convenience\n",
    "\n",
    "    print('Loaded %i times from t = %.1f to %.1f sec at %i gauges' \\\n",
    "            % (len(time),time[0],time[-1],len(x)))\n",
    "    print('   for %i events, with qois %s' % (len(event), qoi.data))\n",
    "    print('print gauge_vals.coords for more info')\n",
    "\n",
    "    return gauge_x, gauge_y, gauge_t, gauge_vals\n",
    "    "
   ]
  },
  {
   "cell_type": "markdown",
   "id": "5",
   "metadata": {},
   "source": [
    "## Use this function to read in a file\n",
    "\n",
    "This example uses the data file available at\n",
    "https://depts.washington.edu/ptha/CopesHubTsunamis/data/allgauges_Seaside_random-str10.nc\n",
    "To run this notebook, download this file and make sure `ncfile` includes the path to this file if it is not in the same directory as this notebook."
   ]
  },
  {
   "cell_type": "code",
   "execution_count": null,
   "id": "6",
   "metadata": {},
   "outputs": [],
   "source": [
    "ncfile = 'allgauges_Seaside_18buried.nc'\n",
    "gauge_x, gauge_y, gauge_t, gauge_vals = read_allgauges_nc(ncfile)"
   ]
  },
  {
   "cell_type": "markdown",
   "id": "7",
   "metadata": {},
   "source": [
    "### Examine the data:"
   ]
  },
  {
   "cell_type": "code",
   "execution_count": null,
   "id": "8",
   "metadata": {},
   "outputs": [],
   "source": [
    "gauge_vals"
   ]
  },
  {
   "cell_type": "markdown",
   "id": "9",
   "metadata": {},
   "source": [
    "To see the events included in this file you click on the disk icon next to `event` above, or print out the array of 'event' coordinates:"
   ]
  },
  {
   "cell_type": "code",
   "execution_count": null,
   "id": "10",
   "metadata": {},
   "outputs": [],
   "source": [
    "gauge_vals.coords['event'].data"
   ]
  },
  {
   "cell_type": "markdown",
   "id": "11",
   "metadata": {},
   "source": [
    "### index into numpy.ndarray\n",
    "\n",
    "Note that  `gauge_vals.data` is an ordinary `numpy.ndarray`, but to index into this array you need to know how the dimensions or ordered, and what index corresponds to the desired gauge number, or quantity of interest, or event..."
   ]
  },
  {
   "cell_type": "code",
   "execution_count": null,
   "id": "12",
   "metadata": {},
   "outputs": [],
   "source": [
    "gauge_vals.data.shape"
   ]
  },
  {
   "cell_type": "markdown",
   "id": "13",
   "metadata": {},
   "source": [
    "### index into xarray:\n",
    "\n",
    "It is easier to work with the `xarray.DataArray`, which provides a wrapper on top of the data to allow indexing directly by values of time, gauge number, event name, qoi name.\n",
    "\n",
    "The `gauge_vals.sel` function allows specifying one or more dimensions.  If we specify 3 of the values as in the example below, it returns a 1-dimensional  `xarray.DataArray` where only `time` varies::"
   ]
  },
  {
   "cell_type": "code",
   "execution_count": null,
   "id": "14",
   "metadata": {},
   "outputs": [],
   "source": [
    "mygaugeno = 1045\n",
    "myevent = 'buried-random-str10-deep'\n",
    "\n",
    "h = gauge_vals.sel(gaugeno=mygaugeno, qoi='h', event=myevent)\n",
    "h"
   ]
  },
  {
   "cell_type": "markdown",
   "id": "15",
   "metadata": {},
   "source": [
    "### Location of gauges:\n",
    "\n",
    "`gauge_x` and `gauge_y` contain the longitude and latitude of each gauge: "
   ]
  },
  {
   "cell_type": "code",
   "execution_count": null,
   "id": "16",
   "metadata": {},
   "outputs": [],
   "source": [
    "gauge_x"
   ]
  },
  {
   "cell_type": "code",
   "execution_count": null,
   "id": "17",
   "metadata": {},
   "outputs": [],
   "source": [
    "x = gauge_x.sel(gaugeno=mygaugeno)\n",
    "y = gauge_y.sel(gaugeno=mygaugeno)\n",
    "print('Gauge %i is at (%.5f, %.5f)' % (mygaugeno, x, y))"
   ]
  },
  {
   "cell_type": "markdown",
   "id": "18",
   "metadata": {},
   "source": [
    "### Plot the water depth `h` at one gauge, for one event:"
   ]
  },
  {
   "cell_type": "code",
   "execution_count": null,
   "id": "19",
   "metadata": {},
   "outputs": [],
   "source": [
    "figure(figsize=(10,6))\n",
    "tminutes = gauge_t / 60.\n",
    "plot(tminutes, h, 'b')\n",
    "grid(True)\n",
    "xlabel('minutes')\n",
    "ylabel('meters')\n",
    "title('Water depth at Gauge %i (%.5f, %.5f)\\nEvent %s' % (mygaugeno,x,y,myevent));"
   ]
  },
  {
   "cell_type": "markdown",
   "id": "20",
   "metadata": {},
   "source": [
    "### Compute and plot momentum flux at this gauge"
   ]
  },
  {
   "cell_type": "code",
   "execution_count": null,
   "id": "21",
   "metadata": {},
   "outputs": [],
   "source": [
    "h = gauge_vals.sel(gaugeno=mygaugeno, qoi='h', event=myevent)\n",
    "u = gauge_vals.sel(gaugeno=mygaugeno, qoi='u', event=myevent)\n",
    "v = gauge_vals.sel(gaugeno=mygaugeno, qoi='v', event=myevent)\n",
    "mflux = h * (u**2 + v**2)\n",
    "\n",
    "figure(figsize=(10,6))\n",
    "plot(gauge_t, mflux, 'b')\n",
    "grid(True)\n",
    "xlabel('minutes')\n",
    "ylabel('m**3 / s**2')\n",
    "title('Momentum flux at Gauge %i (%.5f, %.5f)\\nEvent %s' % (mygaugeno,x,y,myevent));"
   ]
  },
  {
   "cell_type": "markdown",
   "id": "22",
   "metadata": {},
   "source": [
    "### Select mulitple gauges for one event:\n",
    "\n",
    "You can also select multiple gauges, in the case below `h` will be a 2-dimensional array indexed by `time` and `gaugeno`, but with only 4 gauges:"
   ]
  },
  {
   "cell_type": "code",
   "execution_count": null,
   "id": "23",
   "metadata": {},
   "outputs": [],
   "source": [
    "gaugenos = range(1001,1005)\n",
    "h = gauge_vals.sel(gaugeno=gaugenos, qoi='h', event=myevent)\n",
    "h"
   ]
  },
  {
   "cell_type": "code",
   "execution_count": null,
   "id": "24",
   "metadata": {},
   "outputs": [],
   "source": [
    "figure(figsize=(10,6))\n",
    "for gaugeno in gaugenos: \n",
    "    plot(tminutes, h.sel(gaugeno=gaugeno), label='Gauge %i' % gaugeno)\n",
    "legend()\n",
    "grid(True)\n",
    "xlabel('minutes')\n",
    "ylabel('meters')\n",
    "title('Water depth at Gauges %s\\nEvent %s' % (gaugenos,myevent));"
   ]
  },
  {
   "cell_type": "markdown",
   "id": "25",
   "metadata": {},
   "source": [
    "### Select a subset of events at one gauge:"
   ]
  },
  {
   "cell_type": "code",
   "execution_count": null,
   "id": "26",
   "metadata": {},
   "outputs": [],
   "source": [
    "events = ['buried-random-str10-deep', 'buried-random-str10-middle']\n",
    "h = gauge_vals.sel(gaugeno=mygaugeno, event=events, qoi='h')\n",
    "h"
   ]
  },
  {
   "cell_type": "code",
   "execution_count": null,
   "id": "27",
   "metadata": {},
   "outputs": [],
   "source": [
    "figure(figsize=(10,6))\n",
    "for ev in events:\n",
    "    plot(tminutes, h.sel(event=ev), label=ev)\n",
    "legend()\n",
    "grid(True)\n",
    "xlabel('minutes')\n",
    "ylabel('meters')\n",
    "title('Water depth at Gauge %s' % mygaugeno);"
   ]
  },
  {
   "cell_type": "markdown",
   "id": "28",
   "metadata": {},
   "source": [
    "### plot all the events at this gauge:"
   ]
  },
  {
   "cell_type": "code",
   "execution_count": null,
   "id": "29",
   "metadata": {},
   "outputs": [],
   "source": [
    "events = gauge_vals.coords['event'].data  # all events\n",
    "h = gauge_vals.sel(gaugeno=mygaugeno, event=events, qoi='h')\n",
    "\n",
    "figure(figsize=(10,6))\n",
    "for ev in events:\n",
    "    plot(tminutes, h.sel(event=ev), label=ev)\n",
    "legend()\n",
    "grid(True)\n",
    "xlabel('minutes')\n",
    "ylabel('meters')\n",
    "title('Water depth at Gauge %s' % mygaugeno);"
   ]
  },
  {
   "cell_type": "markdown",
   "id": "30",
   "metadata": {},
   "source": [
    "### What's the maximum value at this gauge over all events, and which event is largest?\n",
    "\n",
    "From the plot above it's hard to tell which event corresponds to the upper-most curve, but we can identify this using `argmax`."
   ]
  },
  {
   "cell_type": "code",
   "execution_count": null,
   "id": "31",
   "metadata": {},
   "outputs": [],
   "source": [
    "float(h.max())"
   ]
  },
  {
   "cell_type": "markdown",
   "id": "32",
   "metadata": {},
   "source": [
    "Which event has this maximum value?"
   ]
  },
  {
   "cell_type": "code",
   "execution_count": null,
   "id": "33",
   "metadata": {},
   "outputs": [],
   "source": [
    "hmax = h.max(dim='time')\n",
    "int(hmax.argmax(dim='event'))"
   ]
  },
  {
   "cell_type": "markdown",
   "id": "34",
   "metadata": {},
   "source": [
    "`argmax` returned the integer input but we can see which event this is by indexing into the `events` array using this index:"
   ]
  },
  {
   "cell_type": "code",
   "execution_count": null,
   "id": "35",
   "metadata": {},
   "outputs": [],
   "source": [
    "events[hmax.argmax(dim='event')]"
   ]
  },
  {
   "cell_type": "markdown",
   "id": "36",
   "metadata": {},
   "source": [
    "### Plot this largest event to confirm:"
   ]
  },
  {
   "cell_type": "code",
   "execution_count": null,
   "id": "37",
   "metadata": {},
   "outputs": [],
   "source": [
    "bigevent = events[hmax.argmax(dim='event')]\n",
    "figure(figsize=(10,6))\n",
    "tminutes = gauge_t / 60.\n",
    "plot(tminutes, h.sel(event=bigevent), 'b')\n",
    "grid(True)\n",
    "xlabel('minutes')\n",
    "ylabel('meters')\n",
    "title('Water depth at Gauge %i (%.5f, %.5f)\\nEvent %s' % (mygaugeno,x,y,bigevent));"
   ]
  },
  {
   "cell_type": "code",
   "execution_count": null,
   "id": "38",
   "metadata": {},
   "outputs": [],
   "source": []
  }
 ],
 "metadata": {
  "kernelspec": {
   "display_name": "Python 3 (ipykernel)",
   "language": "python",
   "name": "python3"
  },
  "language_info": {
   "codemirror_mode": {
    "name": "ipython",
    "version": 3
   },
   "file_extension": ".py",
   "mimetype": "text/x-python",
   "name": "python",
   "nbconvert_exporter": "python",
   "pygments_lexer": "ipython3",
   "version": "3.13.3"
  }
 },
 "nbformat": 4,
 "nbformat_minor": 5
}
