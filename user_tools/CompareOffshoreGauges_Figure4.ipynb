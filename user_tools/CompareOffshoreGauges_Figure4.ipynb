{
 "cells": [
  {
   "cell_type": "markdown",
   "id": "0",
   "metadata": {},
   "source": [
    "# Compare offshore gauge results from Figure 4"
   ]
  },
  {
   "cell_type": "code",
   "execution_count": null,
   "id": "1",
   "metadata": {},
   "outputs": [],
   "source": [
    "%matplotlib inline"
   ]
  },
  {
   "cell_type": "code",
   "execution_count": null,
   "id": "2",
   "metadata": {},
   "outputs": [],
   "source": [
    "from pylab import *\n",
    "import os\n",
    "from scipy.io import loadmat"
   ]
  },
  {
   "cell_type": "code",
   "execution_count": null,
   "id": "3",
   "metadata": {},
   "outputs": [],
   "source": [
    "CHT = os.environ['CHT']"
   ]
  },
  {
   "cell_type": "code",
   "execution_count": null,
   "id": "4",
   "metadata": {},
   "outputs": [],
   "source": [
    "outdir1 = '%s/geoclaw_runs/offshore_gauges/multirun_paleo_paper/gaugedata_40min' % CHT"
   ]
  },
  {
   "cell_type": "code",
   "execution_count": null,
   "id": "5",
   "metadata": {},
   "outputs": [],
   "source": [
    "\n",
    "events = ['buried-random-mur13-deep_homogen_newelastic',\n",
    "          'buried-random-mur13-deep_nosub_shiftdoubling']\n",
    "\n",
    "events.sort()\n",
    "\n",
    "#events = [e.replace('-','_') for e in events]\n",
    "\n",
    "print(events)"
   ]
  },
  {
   "cell_type": "code",
   "execution_count": null,
   "id": "6",
   "metadata": {},
   "outputs": [],
   "source": [
    "hmax_geoclaw = {}\n",
    "\n",
    "geoclaw_lat = None\n",
    "\n",
    "event = events[0]\n",
    "geoclaw_gaugemax_path = '%s/offshore_gauges_%s_instant_gauges_max.txt' \\\n",
    "                        % (outdir1, event)\n",
    "geoclaw_gaugemax = loadtxt(geoclaw_gaugemax_path, skiprows=1)\n",
    "geoclaw_lat = geoclaw_gaugemax[:,0]\n",
    "hmax_geoclaw['homog'] = geoclaw_gaugemax[:,1]\n",
    "\n",
    "event = events[1]\n",
    "geoclaw_gaugemax_path = '%s/offshore_gauges_%s_instant_gauges_max.txt' \\\n",
    "                        % (outdir1, event)\n",
    "geoclaw_gaugemax = loadtxt(geoclaw_gaugemax_path, skiprows=1)\n",
    "geoclaw_lat = geoclaw_gaugemax[:,0]\n",
    "hmax_geoclaw['3D'] = geoclaw_gaugemax[:,1]\n"
   ]
  },
  {
   "cell_type": "code",
   "execution_count": null,
   "id": "7",
   "metadata": {},
   "outputs": [],
   "source": [
    "hmax_geoclaw.keys()"
   ]
  },
  {
   "cell_type": "code",
   "execution_count": null,
   "id": "8",
   "metadata": {},
   "outputs": [],
   "source": [
    "fig,ax = subplots(figsize=(12,6))\n",
    "ax.plot(geoclaw_lat, hmax_geoclaw['3D'], 'r', label='GeoClaw 3D')\n",
    "ax.plot(geoclaw_lat, hmax_geoclaw['homog'], 'k', label='GeoClaw homog')\n",
    "ax.grid(True)\n",
    "ax.legend(framealpha=1)\n",
    "ax.set_title('buried-random-mur13-deep')\n",
    "\n",
    "    \n",
    "    "
   ]
  },
  {
   "cell_type": "markdown",
   "id": "9",
   "metadata": {},
   "source": [
    "## MOST results"
   ]
  },
  {
   "cell_type": "code",
   "execution_count": null,
   "id": "10",
   "metadata": {},
   "outputs": [],
   "source": [
    "outdir2 = '%s/geoclaw_runs/offshore_gauges/multirun_3DvsOkada/YongsResults' % CHT\n",
    "#MOST_fname = '%s/max_twh_100m_homogenVs3d.csv' % outdir2\n",
    "#d = loadtxt(MOST_fname, skiprows=1, delimiter=',')\n",
    "\n",
    "MOST_fname = '%s/Figure4_3d_vs_okada_MOST.dat' % outdir2\n",
    "d = loadtxt(MOST_fname, skiprows=1)"
   ]
  },
  {
   "cell_type": "code",
   "execution_count": null,
   "id": "11",
   "metadata": {},
   "outputs": [],
   "source": [
    "most_lat = d[:,1]"
   ]
  },
  {
   "cell_type": "code",
   "execution_count": null,
   "id": "12",
   "metadata": {},
   "outputs": [],
   "source": [
    "hmax_most = {}\n",
    "#hmax_most['3D'] = d[:,3]\n",
    "#hmax_most['homog'] = d[:,2]\n",
    "hmax_most['3D'] = d[:,2]\n",
    "hmax_most['homog'] = d[:,3]"
   ]
  },
  {
   "cell_type": "code",
   "execution_count": null,
   "id": "13",
   "metadata": {},
   "outputs": [],
   "source": [
    "hmax_most.keys()"
   ]
  },
  {
   "cell_type": "code",
   "execution_count": null,
   "id": "14",
   "metadata": {},
   "outputs": [],
   "source": [
    "\n",
    "figure(figsize=(12,4))\n",
    "\n",
    "plot(most_lat, hmax_most['3D'], 'r', label='MOST 3D')\n",
    "plot(geoclaw_lat, hmax_geoclaw['3D'], 'm', label='GeoClaw 3D')\n",
    "plot(most_lat, hmax_most['homog'], 'k', label='MOST homog')\n",
    "plot(geoclaw_lat, hmax_geoclaw['homog'], 'b', label='GeoClaw homog')\n",
    "\n",
    "xlim(most_lat[-1], most_lat[0])\n",
    "grid(True)\n",
    "legend()\n",
    "title('Figure 4(e) buried-random-mur13-deep');\n",
    "\n",
    "if 1:\n",
    "    fname = 'Figure4e_MOST_GeoClaw_ver2.png'\n",
    "    savefig(fname, bbox_inches='tight')\n",
    "    "
   ]
  },
  {
   "cell_type": "code",
   "execution_count": null,
   "id": "15",
   "metadata": {},
   "outputs": [],
   "source": [
    "figure(figsize=(12,10))\n",
    "plot(most_lat, hmax_most['3D'], 'r+-', label='MOST 3D')\n",
    "plot(geoclaw_lat, hmax_geoclaw['3D'], 'm+-', label='GeoClaw 3D')\n",
    "xlim(44,46.2)"
   ]
  },
  {
   "cell_type": "code",
   "execution_count": null,
   "id": "16",
   "metadata": {},
   "outputs": [],
   "source": [
    "len(most_lat), len(geoclaw_lat)"
   ]
  },
  {
   "cell_type": "markdown",
   "id": "17",
   "metadata": {},
   "source": [
    "## Yong's results from set of 18 3D (coarsened) vs Okada"
   ]
  },
  {
   "cell_type": "code",
   "execution_count": null,
   "id": "18",
   "metadata": {},
   "outputs": [],
   "source": [
    "outdir3 = '%s/geoclaw_runs/offshore_gauges/multirun_3DvsOkada/YongsResults' % CHT\n",
    "MOST_fname = '%s/3D_vs_Okada.mat' % outdir3\n",
    "d3 = loadmat(MOST_fname)"
   ]
  },
  {
   "cell_type": "code",
   "execution_count": null,
   "id": "19",
   "metadata": {},
   "outputs": [],
   "source": [
    "most_lat3 = None\n",
    "\n",
    "hmax_most3 = {}\n",
    "events_most3 = []\n",
    "for k in range(36):\n",
    "    Sk = d3['S'][k,:]\n",
    "    if most_lat3 is None:\n",
    "        most_lat3 = Sk[0][2]\n",
    "    event = str(Sk[0][0][0]).replace('_vertdisp','')\n",
    "    hmax_most3[event] = Sk[0][3][:,k]\n",
    "    events_most3.append(event)"
   ]
  },
  {
   "cell_type": "code",
   "execution_count": null,
   "id": "20",
   "metadata": {},
   "outputs": [],
   "source": [
    "hmax_most['3D_full'] = hmax_most3['buried_random_mur13_deep_3D']"
   ]
  },
  {
   "cell_type": "code",
   "execution_count": null,
   "id": "21",
   "metadata": {},
   "outputs": [],
   "source": [
    "hmax_most.keys()"
   ]
  },
  {
   "cell_type": "code",
   "execution_count": null,
   "id": "22",
   "metadata": {},
   "outputs": [],
   "source": [
    "figure(figsize=(12,4))\n",
    "\n",
    "plot(most_lat, hmax_most['3D'], 'r', label='MOST 3D from Yong')\n",
    "plot(most_lat, hmax_most['3D_full'], 'g', label='MOST 3D full resolution')\n",
    "plot(geoclaw_lat, hmax_geoclaw['3D'], 'm', label='GeoClaw 3D')\n",
    "plot(most_lat, hmax_most['homog'], 'k', label='MOST homog full resolution')\n",
    "#plot(geoclaw_lat, hmax_geoclaw['homog'], 'b', label='GeoClaw homog')\n",
    "\n",
    "xlim(most_lat[-1], most_lat[0])\n",
    "grid(True)\n",
    "legend()\n",
    "title('Figure 4(e) buried-random-mur13-deep');\n",
    "\n",
    "if 1:\n",
    "    fname = 'Figure4e_MOST_GeoClaw_ver2.png'\n",
    "    savefig(fname, bbox_inches='tight')\n",
    "    "
   ]
  },
  {
   "cell_type": "code",
   "execution_count": null,
   "id": "23",
   "metadata": {},
   "outputs": [],
   "source": [
    "abs(most_lat-most_lat3).max()"
   ]
  },
  {
   "cell_type": "code",
   "execution_count": null,
   "id": "24",
   "metadata": {},
   "outputs": [],
   "source": [
    "most_lat[:3], most_lat3[:3], geoclaw_lat[-3:]"
   ]
  },
  {
   "cell_type": "code",
   "execution_count": null,
   "id": "25",
   "metadata": {},
   "outputs": [],
   "source": [
    "most_lat[-3:], most_lat3[-3:], geoclaw_lat[:3]"
   ]
  },
  {
   "cell_type": "code",
   "execution_count": null,
   "id": "26",
   "metadata": {},
   "outputs": [],
   "source": [
    "most_lat_flip = flipud(most_lat)\n",
    "y0 = 48\n",
    "jm = where(most_lat_flip < y0)[0].max()\n",
    "jg = where(geoclaw_lat < y0)[0].max()\n",
    "print('%s\\n%s' % (most_lat_flip[jm:jm+5], geoclaw_lat[jg:jg+5].T))"
   ]
  },
  {
   "cell_type": "code",
   "execution_count": null,
   "id": "27",
   "metadata": {},
   "outputs": [],
   "source": []
  }
 ],
 "metadata": {
  "kernelspec": {
   "display_name": "Python 3 (ipykernel)",
   "language": "python",
   "name": "python3"
  },
  "language_info": {
   "codemirror_mode": {
    "name": "ipython",
    "version": 3
   },
   "file_extension": ".py",
   "mimetype": "text/x-python",
   "name": "python",
   "nbconvert_exporter": "python",
   "pygments_lexer": "ipython3",
   "version": "3.13.3"
  }
 },
 "nbformat": 4,
 "nbformat_minor": 5
}
