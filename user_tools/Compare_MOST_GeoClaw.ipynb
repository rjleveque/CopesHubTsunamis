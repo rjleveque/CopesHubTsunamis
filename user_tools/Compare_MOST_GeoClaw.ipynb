{
 "cells": [
  {
   "cell_type": "markdown",
   "id": "0",
   "metadata": {},
   "source": [
    "# Compare_MOST_GeoClaw.ipynb\n"
   ]
  },
  {
   "cell_type": "code",
   "execution_count": null,
   "id": "1",
   "metadata": {},
   "outputs": [],
   "source": [
    "%matplotlib inline"
   ]
  },
  {
   "cell_type": "code",
   "execution_count": null,
   "id": "2",
   "metadata": {},
   "outputs": [],
   "source": [
    "from pylab import *\n",
    "import CHTtools\n",
    "from importlib import reload\n",
    "reload(CHTtools)\n",
    "from clawpack.visclaw import geoplot, colormaps"
   ]
  },
  {
   "cell_type": "code",
   "execution_count": null,
   "id": "3",
   "metadata": {},
   "outputs": [],
   "source": [
    "fname_nc = 'MOST_seaside_tsunami_data.nc'  # for buried-random-mur13-deep\n",
    "mostResults = CHTtools.TsunamiModelResults(ncfile=fname_nc,format='most')\n",
    "mostResults.load_results()"
   ]
  },
  {
   "cell_type": "code",
   "execution_count": null,
   "id": "4",
   "metadata": {},
   "outputs": [],
   "source": [
    "mostResults.make_all_qoi_fcns()"
   ]
  },
  {
   "cell_type": "code",
   "execution_count": null,
   "id": "5",
   "metadata": {},
   "outputs": [],
   "source": [
    "event = 'buried-random-mur13-deep'\n",
    "fgno = 3\n",
    "fname_nc = fname_nc = '%s-fgout%s.nc' % (event,str(fgno).zfill(3))\n",
    "print('Loading results from %s' % fname_nc)\n",
    "geoclawResults = CHTtools.TsunamiModelResults(ncfile=fname_nc, format='geoclaw')\n",
    "geoclawResults.load_results()"
   ]
  },
  {
   "cell_type": "code",
   "execution_count": null,
   "id": "6",
   "metadata": {},
   "outputs": [],
   "source": [
    "geoclawResults.make_all_qoi_fcns()"
   ]
  },
  {
   "cell_type": "code",
   "execution_count": null,
   "id": "7",
   "metadata": {},
   "outputs": [],
   "source": [
    "def extract_grid_onshore(modelResults, t):\n",
    "    \"\"\"\n",
    "    extract depth and speed at time tt (minutes) at onshore points (nan offshore)\n",
    "    if make_plots:  also plot depth on contour plot of topo\n",
    "    \"\"\"\n",
    "    depth_t = modelResults.depth_fcn((modelResults.X,modelResults.Y,t))\n",
    "    depth_t = where(isnan(depth_t), 0, depth_t)\n",
    "    depth_onshore = where(modelResults.B0>0, depth_t, nan)\n",
    "    u_t = modelResults.u_fcn((modelResults.X,modelResults.Y,t))\n",
    "    v_t = modelResults.v_fcn((modelResults.X,modelResults.Y,t))\n",
    "    speed_t = sqrt(u_t**2 + v_t**2)\n",
    "    speed_t = where(isnan(speed_t), 0, speed_t)\n",
    "    speed_onshore = where(modelResults.B0>0, speed_t, nan)\n",
    "    return depth_onshore, speed_onshore"
   ]
  },
  {
   "cell_type": "code",
   "execution_count": null,
   "id": "8",
   "metadata": {},
   "outputs": [],
   "source": [
    "def compare_depth(t):\n",
    "    geoclaw_depth_onshore, geoclaw_speed_onshore = extract_grid_onshore(geoclawResults, t)\n",
    "    most_depth_onshore, most_speed_onshore = extract_grid_onshore(mostResults, t)\n",
    "\n",
    "    cmap = plt.get_cmap('YlOrRd')\n",
    "    cmap.set_under([.1,.7,.1])\n",
    "    cmap.set_over('m')\n",
    "    \n",
    "    fig,axs = subplots(1,2,figsize=(12,8))\n",
    "    ax = axs[0]\n",
    "    pc = ax.pcolormesh(mostResults.X, mostResults.Y, most_depth_onshore, cmap=cmap)\n",
    "    ax.set_aspect(1/cos(pi*46/180))\n",
    "    pc.set_clim(0.05,6)\n",
    "    colorbar(pc, extend='max',label='meters',shrink=0.8)\n",
    "    #ax.ticklabel_format(useOffset=False)\n",
    "    #ax.set_xticks(ax.get_xticks(),rotation=20)\n",
    "    ax.axis(geoclawResults._extent)\n",
    "    ax.set_title('MOST \\n Onshore depth at t = %.2f minutes' % (t/60), \n",
    "                 fontsize=10);\n",
    "    \n",
    "    ax = axs[1]\n",
    "    pc = ax.pcolormesh(geoclawResults.X, geoclawResults.Y, geoclaw_depth_onshore, cmap=cmap)\n",
    "    ax.set_aspect(1/cos(pi*46/180))\n",
    "    pc.set_clim(0.05,6)\n",
    "    colorbar(pc, extend='max',label='meters',shrink=0.8)\n",
    "    #ax.ticklabel_format(useOffset=False)\n",
    "    #ax.set_xticks(ax.get_xticks(),rotation=20)\n",
    "    ax.axis(geoclawResults._extent)\n",
    "    ax.set_title('GeoClaw \\n Onshore depth at t = %.2f minutes' % (t/60), \n",
    "                 fontsize=10);"
   ]
  },
  {
   "cell_type": "code",
   "execution_count": null,
   "id": "9",
   "metadata": {},
   "outputs": [],
   "source": [
    "compare_depth(35*60)"
   ]
  },
  {
   "cell_type": "code",
   "execution_count": null,
   "id": "10",
   "metadata": {},
   "outputs": [],
   "source": [
    "compare_depth(45*60)"
   ]
  },
  {
   "cell_type": "code",
   "execution_count": null,
   "id": "11",
   "metadata": {},
   "outputs": [],
   "source": [
    "compare_depth(55*60)"
   ]
  },
  {
   "cell_type": "markdown",
   "id": "12",
   "metadata": {},
   "source": [
    "## Compare some transects"
   ]
  },
  {
   "cell_type": "code",
   "execution_count": null,
   "id": "13",
   "metadata": {},
   "outputs": [],
   "source": [
    "def compare_transect(y0,t):\n",
    "    figure(figsize=(10,4))\n",
    "    \n",
    "    x = mostResults.x\n",
    "    most_eta_y0 = mostResults.eta_fcn((x,y0,t))\n",
    "    plot(x, most_eta_y0, color='m', label='MOST surface')\n",
    "    \n",
    "    x = geoclawResults.x\n",
    "    geoclaw_eta_y0 = geoclawResults.eta_fcn((x,y0,t))\n",
    "    plot(x, geoclaw_eta_y0, color='b', label='GeoClaw surface')\n",
    "\n",
    "    B_y0 = geoclawResults.B0_fcn((x,y0))\n",
    "    plot(x, B_y0, 'g', label='topo')\n",
    "    xlim(x[0],x[-1])\n",
    "    ylim(-10,10)\n",
    "    ticklabel_format(useOffset=False)\n",
    "    grid(True)\n",
    "    legend(loc='lower right', framealpha=1)\n",
    "    title('Transect at y = %.5f, t = %.2f minutes' % (y0,t/60));"
   ]
  },
  {
   "cell_type": "code",
   "execution_count": null,
   "id": "14",
   "metadata": {},
   "outputs": [],
   "source": [
    "compare_transect(y0 = 46.01, t = 35*60.)"
   ]
  },
  {
   "cell_type": "code",
   "execution_count": null,
   "id": "15",
   "metadata": {},
   "outputs": [],
   "source": [
    "compare_transect(y0 = 46.01, t = 45*60.)"
   ]
  },
  {
   "cell_type": "code",
   "execution_count": null,
   "id": "16",
   "metadata": {},
   "outputs": [],
   "source": [
    "compare_transect(y0 = 46.01, t = 55*60.)"
   ]
  },
  {
   "cell_type": "markdown",
   "id": "17",
   "metadata": {},
   "source": [
    "## Compare some time series:"
   ]
  },
  {
   "cell_type": "code",
   "execution_count": null,
   "id": "18",
   "metadata": {},
   "outputs": [],
   "source": [
    "def compare_gauge(xg,yg):\n",
    "    figure(figsize=(10,4))\n",
    "\n",
    "    tg = mostResults.t\n",
    "    depth_tg = mostResults.depth_fcn((xg,yg,tg))\n",
    "    eta_tg = mostResults.eta_fcn((xg,yg,tg))\n",
    "    Bg = mostResults.B0_fcn((xg,yg))\n",
    "    plot(tg, eta_tg, 'm', label='MOST surface')\n",
    "    plot(tg, depth_tg, 'r', label='MOST depth')\n",
    "\n",
    "    tg = geoclawResults.t\n",
    "    depth_tg = geoclawResults.depth_fcn((xg,yg,tg))\n",
    "    eta_tg = geoclawResults.eta_fcn((xg,yg,tg))\n",
    "    Bg = geoclawResults.B0_fcn((xg,yg))\n",
    "    plot(tg, eta_tg, 'b', label='GeoClaw surface')\n",
    "    plot(tg, depth_tg, 'c', label='GeoClaw depth')\n",
    "    \n",
    "    grid(True)\n",
    "    legend(loc='upper left', framealpha=1)\n",
    "    title('%s -- extracted time series at \\nxg = %.5f, yg = %.5f, B = %.2f' % (event,xg,yg,Bg));"
   ]
  },
  {
   "cell_type": "markdown",
   "id": "19",
   "metadata": {},
   "source": [
    "### At an offshore point:"
   ]
  },
  {
   "cell_type": "code",
   "execution_count": null,
   "id": "20",
   "metadata": {},
   "outputs": [],
   "source": [
    "compare_gauge(xg = -123.9500, yg = 46.0100)"
   ]
  },
  {
   "cell_type": "markdown",
   "id": "21",
   "metadata": {},
   "source": [
    "### At an onshore point:"
   ]
  },
  {
   "cell_type": "code",
   "execution_count": null,
   "id": "22",
   "metadata": {},
   "outputs": [],
   "source": [
    "compare_gauge(xg = -123.9300, yg = 46.0000)"
   ]
  },
  {
   "cell_type": "code",
   "execution_count": null,
   "id": "23",
   "metadata": {},
   "outputs": [],
   "source": []
  }
 ],
 "metadata": {
  "kernelspec": {
   "display_name": "Python 3 (ipykernel)",
   "language": "python",
   "name": "python3"
  },
  "language_info": {
   "codemirror_mode": {
    "name": "ipython",
    "version": 3
   },
   "file_extension": ".py",
   "mimetype": "text/x-python",
   "name": "python",
   "nbconvert_exporter": "python",
   "pygments_lexer": "ipython3",
   "version": "3.13.3"
  }
 },
 "nbformat": 4,
 "nbformat_minor": 5
}
