{
 "cells": [
  {
   "cell_type": "markdown",
   "id": "0",
   "metadata": {},
   "source": [
    "# Load data from MOST .nc file\n",
    "\n",
    "Sample of how to load data from a MOST simulation of Seaside, OR.\n",
    "\n",
    "Then extract and plot:\n",
    " - time series at specified gauge locations, \n",
    " - inundation maps at specified times"
   ]
  },
  {
   "cell_type": "code",
   "execution_count": null,
   "id": "1",
   "metadata": {},
   "outputs": [],
   "source": [
    "%matplotlib inline"
   ]
  },
  {
   "cell_type": "code",
   "execution_count": null,
   "id": "2",
   "metadata": {},
   "outputs": [],
   "source": [
    "from pylab import *\n",
    "import netCDF4, xarray\n",
    "from clawpack.visclaw import geoplot, colormaps\n",
    "from scipy.interpolate import RegularGridInterpolator"
   ]
  },
  {
   "cell_type": "code",
   "execution_count": null,
   "id": "3",
   "metadata": {},
   "outputs": [],
   "source": [
    "ncfile = '/Users/rjl/D/seaside_tsunami_data.nc'"
   ]
  },
  {
   "cell_type": "code",
   "execution_count": null,
   "id": "4",
   "metadata": {},
   "outputs": [],
   "source": [
    "ncdata = xarray.open_dataset(ncfile, decode_timedelta=False)\n",
    "#ncdata = netCDF4.Dataset(ncfile, 'r')  # alternative way, but xarray gives nicer wrapper"
   ]
  },
  {
   "cell_type": "code",
   "execution_count": null,
   "id": "5",
   "metadata": {},
   "outputs": [],
   "source": [
    "ncdata"
   ]
  },
  {
   "cell_type": "code",
   "execution_count": null,
   "id": "6",
   "metadata": {},
   "outputs": [],
   "source": [
    "ncdata.variables.keys()"
   ]
  },
  {
   "cell_type": "markdown",
   "id": "7",
   "metadata": {},
   "source": [
    "## extract as numpy arrays and transpose so [i,j] index corresponds to [x,y]:"
   ]
  },
  {
   "cell_type": "code",
   "execution_count": null,
   "id": "8",
   "metadata": {},
   "outputs": [],
   "source": [
    "t = asarray(ncdata.variables['time'])\n",
    "x = asarray(ncdata.variables['lon'])\n",
    "y = asarray(ncdata.variables['lat'])\n",
    "\n",
    "# reorganize multidimensional arrays so [i,j,k] index corresponds to (x,y,t),\n",
    "# and then convert to numpy arrays:\n",
    "B = asarray(ncdata.variables['bathy'].transpose('x','y'))\n",
    "h = asarray(ncdata.variables['h'].transpose('x','y','time'))\n",
    "depth = asarray(ncdata.variables['depth'].transpose('x','y','time'))\n",
    "speed = asarray(ncdata.variables['speed'].transpose('x','y','time'))\n",
    "\n",
    "X,Y = meshgrid(x,y,indexing='ij')\n",
    "tmin = t / 60. # convert to minutes"
   ]
  },
  {
   "cell_type": "code",
   "execution_count": null,
   "id": "9",
   "metadata": {},
   "outputs": [],
   "source": [
    "print('t has %i times with increment %.2f seconds' % (len(t),(t[1]-t[0])))\n",
    "print('Spatial arrays on grid with %i longitudes, %i latitudes' % (len(x),len(y)))\n",
    "print('Shapes: ', t.shape, x.shape, y.shape, B.shape, h.shape)"
   ]
  },
  {
   "cell_type": "code",
   "execution_count": null,
   "id": "10",
   "metadata": {},
   "outputs": [],
   "source": [
    "ncdata.close()"
   ]
  },
  {
   "cell_type": "markdown",
   "id": "11",
   "metadata": {},
   "source": [
    "## make interpolators for evaluating at arbitray x,y,t:"
   ]
  },
  {
   "cell_type": "code",
   "execution_count": null,
   "id": "12",
   "metadata": {},
   "outputs": [],
   "source": [
    "h_fcn = RegularGridInterpolator((x,y,t), h)\n",
    "depth_fcn = RegularGridInterpolator((x,y,t), depth)\n",
    "speed_fcn = RegularGridInterpolator((x,y,t), speed)\n",
    "B_fcn = RegularGridInterpolator((x,y), B)"
   ]
  },
  {
   "cell_type": "markdown",
   "id": "13",
   "metadata": {},
   "source": [
    "## Plotting stuff:"
   ]
  },
  {
   "cell_type": "code",
   "execution_count": null,
   "id": "14",
   "metadata": {},
   "outputs": [],
   "source": [
    "land_cmap = colormaps.make_colormap({ 0.0:[0.1,0.4,0.0],\n",
    "                                     0.25:[0.0,1.0,0.0],\n",
    "                                      0.5:[0.8,1.0,0.5],\n",
    "                                      1.0:[0.8,0.5,0.2]})\n",
    "sea_cmap = plt.get_cmap('Blues_r')\n",
    "\n",
    "cmap, norm = colormaps.add_colormaps((land_cmap, sea_cmap),\n",
    "                                     data_limits=[-1,1],\n",
    "                                     data_break=0)"
   ]
  },
  {
   "cell_type": "code",
   "execution_count": null,
   "id": "15",
   "metadata": {},
   "outputs": [],
   "source": [
    "def plot_topo():\n",
    "    fig,ax = subplots(figsize=(6,8))\n",
    "    pcolormesh(X,Y,B,cmap=cmap)\n",
    "    clim(-30,30)\n",
    "    colorbar(extend='both',shrink=0.8,label='meters')\n",
    "    ax.set_aspect(1/cos(pi*y.mean()/180))\n",
    "    ticklabel_format(useOffset=False)\n",
    "    xticks(rotation=20)\n",
    "    title('Bathymetry / topography relative to MHW')\n",
    "\n",
    "def plot_topo_contours(clines=[0.]):\n",
    "    fig,ax = subplots(figsize=(6,8))\n",
    "    contour(X,Y,B,clines,colors='g',linewidths=0.8)\n",
    "    ax.set_aspect(1/cos(pi*y.mean()/180))\n",
    "    ticklabel_format(useOffset=False)\n",
    "    xticks(rotation=20)\n",
    "    #title('Bathymetry / topography relative to MHW')"
   ]
  },
  {
   "cell_type": "markdown",
   "id": "16",
   "metadata": {},
   "source": [
    "## Code to extract a time series at a point:"
   ]
  },
  {
   "cell_type": "code",
   "execution_count": null,
   "id": "17",
   "metadata": {},
   "outputs": [],
   "source": [
    "def extract_gauge(xg, yg, make_plots=True):\n",
    "    \"\"\"\n",
    "    Extract times series at a gauge location xg,yg\n",
    "    \"\"\"\n",
    "\n",
    "    h_series = h_fcn((xg,yg,t))\n",
    "    depth_series = depth_fcn((xg,yg,t))\n",
    "    speed_series = speed_fcn((xg,yg,t))\n",
    "    Bg = B_fcn((xg,yg))\n",
    "\n",
    "    if make_plots: \n",
    "    \n",
    "        plot_topo()\n",
    "        plot([xg], [yg], 'rx')\n",
    "        text(xg+0.001, yg, 'Gauge', ha='left', color='r')\n",
    "        \n",
    "        figure(figsize=(8,6))\n",
    "        subplot(211)\n",
    "        plot(tmin, h_series, 'b', label='surface elevation')\n",
    "        plot(tmin, depth_series, 'r', label='depth')\n",
    "        legend(loc='upper left', framealpha=1)\n",
    "        grid(True)\n",
    "        xlabel('minutes')\n",
    "        ylabel('meters')\n",
    "        title('B = %.2fm at x = %.4f, y = %.4f' % (Bg,xg,yg));\n",
    "    \n",
    "        subplot(212)\n",
    "        plot(tmin, speed_series, 'm', label='speed')\n",
    "        grid(True)\n",
    "        legend(loc='upper left', framealpha=1)\n",
    "        xlabel('minutes')\n",
    "        ylabel('meters / second')\n",
    "        tight_layout()\n",
    "\n",
    "    return t, h_series, depth_series, speed_series"
   ]
  },
  {
   "cell_type": "code",
   "execution_count": null,
   "id": "18",
   "metadata": {},
   "outputs": [],
   "source": [
    "t, h_series, depth_series, speed_series = extract_gauge(-123.94, 46.005)"
   ]
  },
  {
   "cell_type": "code",
   "execution_count": null,
   "id": "19",
   "metadata": {},
   "outputs": [],
   "source": [
    "t, h_series, depth_series, speed_series = extract_gauge(-123.93, 45.995)"
   ]
  },
  {
   "cell_type": "markdown",
   "id": "20",
   "metadata": {},
   "source": [
    "## Code to extract a snapshot of depth at a give time:"
   ]
  },
  {
   "cell_type": "code",
   "execution_count": null,
   "id": "21",
   "metadata": {},
   "outputs": [],
   "source": [
    "def extract_grid_onshore(tt, make_plots=True):\n",
    "    \"\"\"\n",
    "    extract depth and speed at time tt (minutes) at onshore points (nan offshore)\n",
    "    if make_plots:  also plot depth on contour plot of topo\n",
    "    \"\"\"\n",
    "    depth_t = depth_fcn((X,Y,tt*60))\n",
    "    depth_t = where(isnan(depth_t), 0., depth_t)  # replace nan by 0 depth\n",
    "    depth_onshore = where(B>0, depth_t, nan)      # replace depth by nan offshore\n",
    "    \n",
    "    speed_t = where(isnan(speed_t), 0., speed_t)\n",
    "    speed_t = speed_fcn((X,Y,tt*60))\n",
    "    speed_onshore = where(B>0, speed_t, nan)\n",
    "    \n",
    "    if make_plots:\n",
    "        \n",
    "        #cmap_reds = plt.get_cmap('Reds')\n",
    "        cmap = plt.get_cmap('YlOrRd')\n",
    "        cmap.set_under([.1,.7,.1])\n",
    "        cmap.set_over('m')\n",
    "        plot_topo_contours()\n",
    "        pcolormesh(X,Y,depth_onshore,cmap=cmap)\n",
    "        clim(0.05,6)\n",
    "        colorbar(extend='max',label='meters',shrink=0.8)\n",
    "        axis([-123.96, -123.9025, 45.972, 46.0275])\n",
    "        title('Onshore depth at t = %.2f minutes' % tt)\n",
    "\n",
    "    return depth_onshore, speed_onshore"
   ]
  },
  {
   "cell_type": "code",
   "execution_count": null,
   "id": "22",
   "metadata": {},
   "outputs": [],
   "source": [
    "depth_onshore, speed_onshore = extract_grid_onshore(35)"
   ]
  },
  {
   "cell_type": "code",
   "execution_count": null,
   "id": "23",
   "metadata": {},
   "outputs": [],
   "source": [
    "depth_onshore, speed_onshore = extract_grid_onshore(45)"
   ]
  },
  {
   "cell_type": "markdown",
   "id": "24",
   "metadata": {},
   "source": [
    "## Create a smaller .nc file with only the surface elevation:\n",
    "\n",
    "Illustrates how to write netcdf files using xarray."
   ]
  },
  {
   "cell_type": "code",
   "execution_count": null,
   "id": "25",
   "metadata": {},
   "outputs": [],
   "source": [
    "data_dict = {'eta': (('x','y','t'), h)}\n",
    "coords = {'x':x, 'y':y, 't':t}\n",
    "ds = xarray.Dataset(data_dict, coords)"
   ]
  },
  {
   "cell_type": "code",
   "execution_count": null,
   "id": "26",
   "metadata": {},
   "outputs": [],
   "source": [
    "ds.to_netcdf('test_eta.nc')"
   ]
  },
  {
   "cell_type": "code",
   "execution_count": null,
   "id": "27",
   "metadata": {},
   "outputs": [],
   "source": [
    "!du -hs test_eta.nc"
   ]
  },
  {
   "cell_type": "markdown",
   "id": "28",
   "metadata": {},
   "source": [
    "### reload to test:"
   ]
  },
  {
   "cell_type": "code",
   "execution_count": null,
   "id": "29",
   "metadata": {},
   "outputs": [],
   "source": [
    "ff = xarray.open_dataset('test_eta.nc')"
   ]
  },
  {
   "cell_type": "code",
   "execution_count": null,
   "id": "30",
   "metadata": {},
   "outputs": [],
   "source": [
    "ff"
   ]
  },
  {
   "cell_type": "code",
   "execution_count": null,
   "id": "31",
   "metadata": {},
   "outputs": [],
   "source": [
    "asarray(ff.variables['eta']).shape"
   ]
  },
  {
   "cell_type": "code",
   "execution_count": null,
   "id": "32",
   "metadata": {},
   "outputs": [],
   "source": [
    "ff.close()"
   ]
  },
  {
   "cell_type": "code",
   "execution_count": null,
   "id": "33",
   "metadata": {},
   "outputs": [],
   "source": []
  },
  {
   "cell_type": "code",
   "execution_count": null,
   "id": "34",
   "metadata": {},
   "outputs": [],
   "source": [
    "RegularGridInterpolator?"
   ]
  },
  {
   "cell_type": "code",
   "execution_count": null,
   "id": "35",
   "metadata": {},
   "outputs": [],
   "source": []
  }
 ],
 "metadata": {
  "kernelspec": {
   "display_name": "Python 3 (ipykernel)",
   "language": "python",
   "name": "python3"
  },
  "language_info": {
   "codemirror_mode": {
    "name": "ipython",
    "version": 3
   },
   "file_extension": ".py",
   "mimetype": "text/x-python",
   "name": "python",
   "nbconvert_exporter": "python",
   "pygments_lexer": "ipython3",
   "version": "3.13.3"
  }
 },
 "nbformat": 4,
 "nbformat_minor": 5
}
